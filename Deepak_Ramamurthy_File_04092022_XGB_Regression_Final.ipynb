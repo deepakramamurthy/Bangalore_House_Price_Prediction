{
 "cells": [
  {
   "cell_type": "markdown",
   "id": "63c95870",
   "metadata": {},
   "source": [
    "# Bangalore House Price Prediction - Regression Model"
   ]
  },
  {
   "cell_type": "markdown",
   "id": "3ace6db8",
   "metadata": {},
   "source": [
    "### Import the initial required libraries"
   ]
  },
  {
   "cell_type": "code",
   "execution_count": 1,
   "id": "baab9ea0",
   "metadata": {},
   "outputs": [],
   "source": [
    "import pandas as pd\n",
    "import numpy as np\n",
    "import matplotlib.pyplot as plt\n",
    "import seaborn as sns\n",
    "plt.rcParams[\"figure.figsize\"] = (50,20)\n",
    "plt.rcParams[\"xtick.labelsize\"] = 20\n",
    "plt.rcParams[\"ytick.labelsize\"] = 20\n",
    "import warnings\n",
    "warnings.filterwarnings('ignore')"
   ]
  },
  {
   "cell_type": "markdown",
   "id": "dae48133",
   "metadata": {},
   "source": [
    "### Import the train dataset and view the first 5 rows"
   ]
  },
  {
   "cell_type": "code",
   "execution_count": 2,
   "id": "092787e5",
   "metadata": {},
   "outputs": [
    {
     "data": {
      "text/html": [
       "<div>\n",
       "<style scoped>\n",
       "    .dataframe tbody tr th:only-of-type {\n",
       "        vertical-align: middle;\n",
       "    }\n",
       "\n",
       "    .dataframe tbody tr th {\n",
       "        vertical-align: top;\n",
       "    }\n",
       "\n",
       "    .dataframe thead th {\n",
       "        text-align: right;\n",
       "    }\n",
       "</style>\n",
       "<table border=\"1\" class=\"dataframe\">\n",
       "  <thead>\n",
       "    <tr style=\"text-align: right;\">\n",
       "      <th></th>\n",
       "      <th>ID</th>\n",
       "      <th>area_type</th>\n",
       "      <th>availability</th>\n",
       "      <th>location</th>\n",
       "      <th>size</th>\n",
       "      <th>society</th>\n",
       "      <th>total_sqft</th>\n",
       "      <th>bath</th>\n",
       "      <th>balcony</th>\n",
       "      <th>price</th>\n",
       "    </tr>\n",
       "  </thead>\n",
       "  <tbody>\n",
       "    <tr>\n",
       "      <th>0</th>\n",
       "      <td>0</td>\n",
       "      <td>Super built-up  Area</td>\n",
       "      <td>19-Dec</td>\n",
       "      <td>Electronic City Phase II</td>\n",
       "      <td>2 BHK</td>\n",
       "      <td>Coomee</td>\n",
       "      <td>1056</td>\n",
       "      <td>2.0</td>\n",
       "      <td>1.0</td>\n",
       "      <td>39.07</td>\n",
       "    </tr>\n",
       "    <tr>\n",
       "      <th>1</th>\n",
       "      <td>1</td>\n",
       "      <td>Plot  Area</td>\n",
       "      <td>Ready To Move</td>\n",
       "      <td>Chikka Tirupathi</td>\n",
       "      <td>4 Bedroom</td>\n",
       "      <td>Theanmp</td>\n",
       "      <td>2600</td>\n",
       "      <td>5.0</td>\n",
       "      <td>3.0</td>\n",
       "      <td>120.00</td>\n",
       "    </tr>\n",
       "    <tr>\n",
       "      <th>2</th>\n",
       "      <td>2</td>\n",
       "      <td>Built-up  Area</td>\n",
       "      <td>Ready To Move</td>\n",
       "      <td>Uttarahalli</td>\n",
       "      <td>3 BHK</td>\n",
       "      <td>NaN</td>\n",
       "      <td>1440</td>\n",
       "      <td>2.0</td>\n",
       "      <td>3.0</td>\n",
       "      <td>62.00</td>\n",
       "    </tr>\n",
       "    <tr>\n",
       "      <th>3</th>\n",
       "      <td>3</td>\n",
       "      <td>Super built-up  Area</td>\n",
       "      <td>Ready To Move</td>\n",
       "      <td>Lingadheeranahalli</td>\n",
       "      <td>3 BHK</td>\n",
       "      <td>Soiewre</td>\n",
       "      <td>1521</td>\n",
       "      <td>3.0</td>\n",
       "      <td>1.0</td>\n",
       "      <td>95.00</td>\n",
       "    </tr>\n",
       "    <tr>\n",
       "      <th>4</th>\n",
       "      <td>4</td>\n",
       "      <td>Super built-up  Area</td>\n",
       "      <td>Ready To Move</td>\n",
       "      <td>Kothanur</td>\n",
       "      <td>2 BHK</td>\n",
       "      <td>NaN</td>\n",
       "      <td>1200</td>\n",
       "      <td>2.0</td>\n",
       "      <td>1.0</td>\n",
       "      <td>51.00</td>\n",
       "    </tr>\n",
       "  </tbody>\n",
       "</table>\n",
       "</div>"
      ],
      "text/plain": [
       "   ID             area_type   availability                  location  \\\n",
       "0   0  Super built-up  Area         19-Dec  Electronic City Phase II   \n",
       "1   1            Plot  Area  Ready To Move          Chikka Tirupathi   \n",
       "2   2        Built-up  Area  Ready To Move               Uttarahalli   \n",
       "3   3  Super built-up  Area  Ready To Move        Lingadheeranahalli   \n",
       "4   4  Super built-up  Area  Ready To Move                  Kothanur   \n",
       "\n",
       "        size  society total_sqft  bath  balcony   price  \n",
       "0      2 BHK  Coomee        1056   2.0      1.0   39.07  \n",
       "1  4 Bedroom  Theanmp       2600   5.0      3.0  120.00  \n",
       "2      3 BHK      NaN       1440   2.0      3.0   62.00  \n",
       "3      3 BHK  Soiewre       1521   3.0      1.0   95.00  \n",
       "4      2 BHK      NaN       1200   2.0      1.0   51.00  "
      ]
     },
     "execution_count": 2,
     "metadata": {},
     "output_type": "execute_result"
    }
   ],
   "source": [
    "main = pd.read_csv('train.csv')\n",
    "main.head()"
   ]
  },
  {
   "cell_type": "markdown",
   "id": "c6955e48",
   "metadata": {},
   "source": [
    "### Check the data types and info of the features/dataset"
   ]
  },
  {
   "cell_type": "code",
   "execution_count": 3,
   "id": "564a13ce",
   "metadata": {},
   "outputs": [
    {
     "name": "stdout",
     "output_type": "stream",
     "text": [
      "<class 'pandas.core.frame.DataFrame'>\n",
      "RangeIndex: 10656 entries, 0 to 10655\n",
      "Data columns (total 10 columns):\n",
      " #   Column        Non-Null Count  Dtype  \n",
      "---  ------        --------------  -----  \n",
      " 0   ID            10656 non-null  int64  \n",
      " 1   area_type     10656 non-null  object \n",
      " 2   availability  10656 non-null  object \n",
      " 3   location      10655 non-null  object \n",
      " 4   size          10642 non-null  object \n",
      " 5   society       6228 non-null   object \n",
      " 6   total_sqft    10656 non-null  object \n",
      " 7   bath          10591 non-null  float64\n",
      " 8   balcony       10152 non-null  float64\n",
      " 9   price         10656 non-null  float64\n",
      "dtypes: float64(3), int64(1), object(6)\n",
      "memory usage: 832.6+ KB\n"
     ]
    }
   ],
   "source": [
    "main.info()"
   ]
  },
  {
   "cell_type": "markdown",
   "id": "2012b0d7",
   "metadata": {},
   "source": [
    "### Let us compute the composition of the missing values for all features"
   ]
  },
  {
   "cell_type": "code",
   "execution_count": 4,
   "id": "63156fb2",
   "metadata": {},
   "outputs": [
    {
     "data": {
      "text/plain": [
       "ID               0.000000\n",
       "area_type        0.000000\n",
       "availability     0.000000\n",
       "location         0.009384\n",
       "size             0.131381\n",
       "society         41.554054\n",
       "total_sqft       0.000000\n",
       "bath             0.609985\n",
       "balcony          4.729730\n",
       "price            0.000000\n",
       "dtype: float64"
      ]
     },
     "execution_count": 4,
     "metadata": {},
     "output_type": "execute_result"
    }
   ],
   "source": [
    "miss_values_composition = main.isnull().sum()/len(main)*100\n",
    "miss_values_composition"
   ]
  },
  {
   "cell_type": "markdown",
   "id": "1fa64d54",
   "metadata": {},
   "source": [
    "### Let us drop ID, society and availability columns from the dataset"
   ]
  },
  {
   "cell_type": "markdown",
   "id": "e10313a8",
   "metadata": {},
   "source": [
    "- We have a total of 10656 rows and 10 columns in the dataset. There are significant missing values in the society column but however we will not be needing this column as they are encrypted (as per the hackathon's instructions).\n",
    "- We will remove the ID column. ID is a unique valued feature for every row. ID acts as an identifier for the row hence to train our model, we do not need this column.\n",
    "- We also have missing values in location, size, bath and balcony columns.\n",
    "- We will drop availability because based on previous iterations, the spread is 80%-20% between Ready to move and Currently occupied (not Ready to move)."
   ]
  },
  {
   "cell_type": "code",
   "execution_count": 5,
   "id": "c6431fe4",
   "metadata": {},
   "outputs": [],
   "source": [
    "main = main.drop(['ID','availability','society'], axis = 1)"
   ]
  },
  {
   "cell_type": "markdown",
   "id": "560ea3d1",
   "metadata": {},
   "source": [
    "- 4.72% of the values in the balcony column is missing. We can either treat these missing values or we can drop the rows containing missing values, since, we will only be eliminating approximately just 5.5% of the data. In our case, let us drop these rows containing the missing values as we still have enough data in our dataset to train our model."
   ]
  },
  {
   "cell_type": "code",
   "execution_count": 6,
   "id": "c8e2a47a",
   "metadata": {},
   "outputs": [],
   "source": [
    "main = main.dropna()"
   ]
  },
  {
   "cell_type": "code",
   "execution_count": 7,
   "id": "b76a7b5f",
   "metadata": {},
   "outputs": [
    {
     "data": {
      "text/plain": [
       "area_type     0.0\n",
       "location      0.0\n",
       "size          0.0\n",
       "total_sqft    0.0\n",
       "bath          0.0\n",
       "balcony       0.0\n",
       "price         0.0\n",
       "dtype: float64"
      ]
     },
     "execution_count": 7,
     "metadata": {},
     "output_type": "execute_result"
    }
   ],
   "source": [
    "miss_values_composition = main.isnull().sum()/len(main)*100\n",
    "miss_values_composition"
   ]
  },
  {
   "cell_type": "markdown",
   "id": "b62c607a",
   "metadata": {},
   "source": [
    "- We now do not have any missing values in any of the rows."
   ]
  },
  {
   "cell_type": "code",
   "execution_count": 8,
   "id": "edbfeb41",
   "metadata": {},
   "outputs": [
    {
     "data": {
      "text/html": [
       "<div>\n",
       "<style scoped>\n",
       "    .dataframe tbody tr th:only-of-type {\n",
       "        vertical-align: middle;\n",
       "    }\n",
       "\n",
       "    .dataframe tbody tr th {\n",
       "        vertical-align: top;\n",
       "    }\n",
       "\n",
       "    .dataframe thead th {\n",
       "        text-align: right;\n",
       "    }\n",
       "</style>\n",
       "<table border=\"1\" class=\"dataframe\">\n",
       "  <thead>\n",
       "    <tr style=\"text-align: right;\">\n",
       "      <th></th>\n",
       "      <th>area_type</th>\n",
       "      <th>location</th>\n",
       "      <th>size</th>\n",
       "      <th>total_sqft</th>\n",
       "      <th>bath</th>\n",
       "      <th>balcony</th>\n",
       "      <th>price</th>\n",
       "    </tr>\n",
       "  </thead>\n",
       "  <tbody>\n",
       "    <tr>\n",
       "      <th>0</th>\n",
       "      <td>Super built-up  Area</td>\n",
       "      <td>Electronic City Phase II</td>\n",
       "      <td>2 BHK</td>\n",
       "      <td>1056</td>\n",
       "      <td>2.0</td>\n",
       "      <td>1.0</td>\n",
       "      <td>39.07</td>\n",
       "    </tr>\n",
       "    <tr>\n",
       "      <th>1</th>\n",
       "      <td>Plot  Area</td>\n",
       "      <td>Chikka Tirupathi</td>\n",
       "      <td>4 Bedroom</td>\n",
       "      <td>2600</td>\n",
       "      <td>5.0</td>\n",
       "      <td>3.0</td>\n",
       "      <td>120.00</td>\n",
       "    </tr>\n",
       "    <tr>\n",
       "      <th>2</th>\n",
       "      <td>Built-up  Area</td>\n",
       "      <td>Uttarahalli</td>\n",
       "      <td>3 BHK</td>\n",
       "      <td>1440</td>\n",
       "      <td>2.0</td>\n",
       "      <td>3.0</td>\n",
       "      <td>62.00</td>\n",
       "    </tr>\n",
       "    <tr>\n",
       "      <th>3</th>\n",
       "      <td>Super built-up  Area</td>\n",
       "      <td>Lingadheeranahalli</td>\n",
       "      <td>3 BHK</td>\n",
       "      <td>1521</td>\n",
       "      <td>3.0</td>\n",
       "      <td>1.0</td>\n",
       "      <td>95.00</td>\n",
       "    </tr>\n",
       "    <tr>\n",
       "      <th>4</th>\n",
       "      <td>Super built-up  Area</td>\n",
       "      <td>Kothanur</td>\n",
       "      <td>2 BHK</td>\n",
       "      <td>1200</td>\n",
       "      <td>2.0</td>\n",
       "      <td>1.0</td>\n",
       "      <td>51.00</td>\n",
       "    </tr>\n",
       "  </tbody>\n",
       "</table>\n",
       "</div>"
      ],
      "text/plain": [
       "              area_type                  location       size total_sqft  bath  \\\n",
       "0  Super built-up  Area  Electronic City Phase II      2 BHK       1056   2.0   \n",
       "1            Plot  Area          Chikka Tirupathi  4 Bedroom       2600   5.0   \n",
       "2        Built-up  Area               Uttarahalli      3 BHK       1440   2.0   \n",
       "3  Super built-up  Area        Lingadheeranahalli      3 BHK       1521   3.0   \n",
       "4  Super built-up  Area                  Kothanur      2 BHK       1200   2.0   \n",
       "\n",
       "   balcony   price  \n",
       "0      1.0   39.07  \n",
       "1      3.0  120.00  \n",
       "2      3.0   62.00  \n",
       "3      1.0   95.00  \n",
       "4      1.0   51.00  "
      ]
     },
     "execution_count": 8,
     "metadata": {},
     "output_type": "execute_result"
    }
   ],
   "source": [
    "main.head()"
   ]
  },
  {
   "cell_type": "markdown",
   "id": "4530cd1f",
   "metadata": {},
   "source": [
    "### Let us describe the data and check its trend"
   ]
  },
  {
   "cell_type": "code",
   "execution_count": 9,
   "id": "b682de38",
   "metadata": {},
   "outputs": [
    {
     "data": {
      "text/html": [
       "<div>\n",
       "<style scoped>\n",
       "    .dataframe tbody tr th:only-of-type {\n",
       "        vertical-align: middle;\n",
       "    }\n",
       "\n",
       "    .dataframe tbody tr th {\n",
       "        vertical-align: top;\n",
       "    }\n",
       "\n",
       "    .dataframe thead th {\n",
       "        text-align: right;\n",
       "    }\n",
       "</style>\n",
       "<table border=\"1\" class=\"dataframe\">\n",
       "  <thead>\n",
       "    <tr style=\"text-align: right;\">\n",
       "      <th></th>\n",
       "      <th>bath</th>\n",
       "      <th>balcony</th>\n",
       "      <th>price</th>\n",
       "    </tr>\n",
       "  </thead>\n",
       "  <tbody>\n",
       "    <tr>\n",
       "      <th>count</th>\n",
       "      <td>10151.000000</td>\n",
       "      <td>10151.000000</td>\n",
       "      <td>10151.000000</td>\n",
       "    </tr>\n",
       "    <tr>\n",
       "      <th>mean</th>\n",
       "      <td>2.616688</td>\n",
       "      <td>1.581716</td>\n",
       "      <td>105.714458</td>\n",
       "    </tr>\n",
       "    <tr>\n",
       "      <th>std</th>\n",
       "      <td>1.246454</td>\n",
       "      <td>0.821387</td>\n",
       "      <td>128.936729</td>\n",
       "    </tr>\n",
       "    <tr>\n",
       "      <th>min</th>\n",
       "      <td>1.000000</td>\n",
       "      <td>0.000000</td>\n",
       "      <td>8.000000</td>\n",
       "    </tr>\n",
       "    <tr>\n",
       "      <th>25%</th>\n",
       "      <td>2.000000</td>\n",
       "      <td>1.000000</td>\n",
       "      <td>49.000000</td>\n",
       "    </tr>\n",
       "    <tr>\n",
       "      <th>50%</th>\n",
       "      <td>2.000000</td>\n",
       "      <td>2.000000</td>\n",
       "      <td>70.000000</td>\n",
       "    </tr>\n",
       "    <tr>\n",
       "      <th>75%</th>\n",
       "      <td>3.000000</td>\n",
       "      <td>2.000000</td>\n",
       "      <td>115.000000</td>\n",
       "    </tr>\n",
       "    <tr>\n",
       "      <th>max</th>\n",
       "      <td>40.000000</td>\n",
       "      <td>3.000000</td>\n",
       "      <td>2700.000000</td>\n",
       "    </tr>\n",
       "  </tbody>\n",
       "</table>\n",
       "</div>"
      ],
      "text/plain": [
       "               bath       balcony         price\n",
       "count  10151.000000  10151.000000  10151.000000\n",
       "mean       2.616688      1.581716    105.714458\n",
       "std        1.246454      0.821387    128.936729\n",
       "min        1.000000      0.000000      8.000000\n",
       "25%        2.000000      1.000000     49.000000\n",
       "50%        2.000000      2.000000     70.000000\n",
       "75%        3.000000      2.000000    115.000000\n",
       "max       40.000000      3.000000   2700.000000"
      ]
     },
     "execution_count": 9,
     "metadata": {},
     "output_type": "execute_result"
    }
   ],
   "source": [
    "main.describe()"
   ]
  },
  {
   "cell_type": "markdown",
   "id": "d247d1f4",
   "metadata": {},
   "source": [
    "Looking at the bath feature we can say that the data is skewed considering the 75% percentile value to be at 3 while the max value is 40. Also for a house to have 40 bathrooms is highly unlikely."
   ]
  },
  {
   "cell_type": "markdown",
   "id": "2e7216b7",
   "metadata": {},
   "source": [
    "### Let us perform some Exploratory Data Analysis and understand the relationship among the features"
   ]
  },
  {
   "cell_type": "markdown",
   "id": "cf2e32ff",
   "metadata": {},
   "source": [
    "### Let us explore the feature size"
   ]
  },
  {
   "cell_type": "code",
   "execution_count": 10,
   "id": "71091e4d",
   "metadata": {},
   "outputs": [
    {
     "data": {
      "image/png": "[encoded data removed]",
      "text/plain": [
       "<Figure size 3600x1440 with 1 Axes>"
      ]
     },
     "metadata": {
      "needs_background": "light"
     },
     "output_type": "display_data"
    }
   ],
   "source": [
    "sns.countplot(x = 'size', data = main)\n",
    "plt.xticks(rotation=90)\n",
    "plt.show()"
   ]
  },
  {
   "cell_type": "markdown",
   "id": "3d45a292",
   "metadata": {},
   "source": [
    "- Looking at the graph we can say that there are outliers in the size column"
   ]
  },
  {
   "cell_type": "markdown",
   "id": "2b632354",
   "metadata": {},
   "source": [
    "### Let us explore the feature bath"
   ]
  },
  {
   "cell_type": "code",
   "execution_count": 11,
   "id": "4fe818d5",
   "metadata": {},
   "outputs": [
    {
     "data": {
      "image/png": "[encoded data removed]",
      "text/plain": [
       "<Figure size 3600x1440 with 1 Axes>"
      ]
     },
     "metadata": {
      "needs_background": "light"
     },
     "output_type": "display_data"
    }
   ],
   "source": [
    "sns.countplot(x = 'bath', data = main)\n",
    "plt.show()"
   ]
  },
  {
   "cell_type": "markdown",
   "id": "e37c5c6e",
   "metadata": {},
   "source": [
    "Looking at the graph we can say that there are outliers in the bath column as well"
   ]
  },
  {
   "cell_type": "markdown",
   "id": "6749daea",
   "metadata": {},
   "source": [
    "### Let us explore the feature balcony"
   ]
  },
  {
   "cell_type": "code",
   "execution_count": 12,
   "id": "3a6596b3",
   "metadata": {},
   "outputs": [
    {
     "data": {
      "image/png": "[encoded data removed]",
      "text/plain": [
       "<Figure size 3600x1440 with 1 Axes>"
      ]
     },
     "metadata": {
      "needs_background": "light"
     },
     "output_type": "display_data"
    }
   ],
   "source": [
    "sns.countplot(x = 'balcony', data = main)\n",
    "plt.show()"
   ]
  },
  {
   "cell_type": "markdown",
   "id": "1ccfb41a",
   "metadata": {},
   "source": [
    "- Majority of the houses have 2 Balconies."
   ]
  },
  {
   "cell_type": "markdown",
   "id": "84be2ceb",
   "metadata": {},
   "source": [
    "### Let us perform some feature engineering to remove the format issues seen in the size column and data value issues seen in the total_sqft column."
   ]
  },
  {
   "cell_type": "markdown",
   "id": "31e86c52",
   "metadata": {},
   "source": [
    "### Removing the format issues in size column"
   ]
  },
  {
   "cell_type": "code",
   "execution_count": 13,
   "id": "99ffbaca",
   "metadata": {
    "scrolled": true
   },
   "outputs": [
    {
     "data": {
      "text/plain": [
       "array([ 2,  4,  3,  1,  6,  8,  7,  5, 11,  9, 27, 43, 14, 12, 10, 13],\n",
       "      dtype=int64)"
      ]
     },
     "execution_count": 13,
     "metadata": {},
     "output_type": "execute_result"
    }
   ],
   "source": [
    "main['BHK'] = main['size'].apply(lambda x: int(x.split(' ')[0]))\n",
    "main.BHK.unique()"
   ]
  },
  {
   "cell_type": "code",
   "execution_count": 14,
   "id": "6d94a805",
   "metadata": {},
   "outputs": [
    {
     "data": {
      "text/html": [
       "<div>\n",
       "<style scoped>\n",
       "    .dataframe tbody tr th:only-of-type {\n",
       "        vertical-align: middle;\n",
       "    }\n",
       "\n",
       "    .dataframe tbody tr th {\n",
       "        vertical-align: top;\n",
       "    }\n",
       "\n",
       "    .dataframe thead th {\n",
       "        text-align: right;\n",
       "    }\n",
       "</style>\n",
       "<table border=\"1\" class=\"dataframe\">\n",
       "  <thead>\n",
       "    <tr style=\"text-align: right;\">\n",
       "      <th></th>\n",
       "      <th>area_type</th>\n",
       "      <th>location</th>\n",
       "      <th>size</th>\n",
       "      <th>total_sqft</th>\n",
       "      <th>bath</th>\n",
       "      <th>balcony</th>\n",
       "      <th>price</th>\n",
       "      <th>BHK</th>\n",
       "    </tr>\n",
       "  </thead>\n",
       "  <tbody>\n",
       "    <tr>\n",
       "      <th>0</th>\n",
       "      <td>Super built-up  Area</td>\n",
       "      <td>Electronic City Phase II</td>\n",
       "      <td>2 BHK</td>\n",
       "      <td>1056</td>\n",
       "      <td>2.0</td>\n",
       "      <td>1.0</td>\n",
       "      <td>39.07</td>\n",
       "      <td>2</td>\n",
       "    </tr>\n",
       "    <tr>\n",
       "      <th>1</th>\n",
       "      <td>Plot  Area</td>\n",
       "      <td>Chikka Tirupathi</td>\n",
       "      <td>4 Bedroom</td>\n",
       "      <td>2600</td>\n",
       "      <td>5.0</td>\n",
       "      <td>3.0</td>\n",
       "      <td>120.00</td>\n",
       "      <td>4</td>\n",
       "    </tr>\n",
       "    <tr>\n",
       "      <th>2</th>\n",
       "      <td>Built-up  Area</td>\n",
       "      <td>Uttarahalli</td>\n",
       "      <td>3 BHK</td>\n",
       "      <td>1440</td>\n",
       "      <td>2.0</td>\n",
       "      <td>3.0</td>\n",
       "      <td>62.00</td>\n",
       "      <td>3</td>\n",
       "    </tr>\n",
       "    <tr>\n",
       "      <th>3</th>\n",
       "      <td>Super built-up  Area</td>\n",
       "      <td>Lingadheeranahalli</td>\n",
       "      <td>3 BHK</td>\n",
       "      <td>1521</td>\n",
       "      <td>3.0</td>\n",
       "      <td>1.0</td>\n",
       "      <td>95.00</td>\n",
       "      <td>3</td>\n",
       "    </tr>\n",
       "    <tr>\n",
       "      <th>4</th>\n",
       "      <td>Super built-up  Area</td>\n",
       "      <td>Kothanur</td>\n",
       "      <td>2 BHK</td>\n",
       "      <td>1200</td>\n",
       "      <td>2.0</td>\n",
       "      <td>1.0</td>\n",
       "      <td>51.00</td>\n",
       "      <td>2</td>\n",
       "    </tr>\n",
       "  </tbody>\n",
       "</table>\n",
       "</div>"
      ],
      "text/plain": [
       "              area_type                  location       size total_sqft  bath  \\\n",
       "0  Super built-up  Area  Electronic City Phase II      2 BHK       1056   2.0   \n",
       "1            Plot  Area          Chikka Tirupathi  4 Bedroom       2600   5.0   \n",
       "2        Built-up  Area               Uttarahalli      3 BHK       1440   2.0   \n",
       "3  Super built-up  Area        Lingadheeranahalli      3 BHK       1521   3.0   \n",
       "4  Super built-up  Area                  Kothanur      2 BHK       1200   2.0   \n",
       "\n",
       "   balcony   price  BHK  \n",
       "0      1.0   39.07    2  \n",
       "1      3.0  120.00    4  \n",
       "2      3.0   62.00    3  \n",
       "3      1.0   95.00    3  \n",
       "4      1.0   51.00    2  "
      ]
     },
     "execution_count": 14,
     "metadata": {},
     "output_type": "execute_result"
    }
   ],
   "source": [
    "main.head()"
   ]
  },
  {
   "cell_type": "markdown",
   "id": "8dec5be1",
   "metadata": {},
   "source": [
    "### Let us drop the size column since we have formatted this column and added BHK as a new column"
   ]
  },
  {
   "cell_type": "code",
   "execution_count": 15,
   "id": "2a729c1f",
   "metadata": {},
   "outputs": [],
   "source": [
    "main = main.drop('size', axis = 1)"
   ]
  },
  {
   "cell_type": "markdown",
   "id": "d6e91be3",
   "metadata": {},
   "source": [
    "### Standardizing the total_sqft column"
   ]
  },
  {
   "cell_type": "markdown",
   "id": "9419b193",
   "metadata": {},
   "source": [
    "- By exploring the excel data we come to see that the total_sqft column has multiple value types like range, sq metres, sq yards, acres, cents. We need to convert all these irregular forms to total sqft format."
   ]
  },
  {
   "cell_type": "markdown",
   "id": "aef9d765",
   "metadata": {},
   "source": [
    "### Let us define various functions to convert these irregularities in the column and then apply these functions on the total_sqft column to remove those irregularities"
   ]
  },
  {
   "cell_type": "code",
   "execution_count": 16,
   "id": "2e89a4a4",
   "metadata": {},
   "outputs": [],
   "source": [
    "def convert_range_to_avg_sqft(x):\n",
    "    tokens = str(x).split('-')\n",
    "    if len(tokens) == 2:\n",
    "        return (float(tokens[0])+float(tokens[1]))/2\n",
    "    try:\n",
    "        return x\n",
    "    except:\n",
    "        return None\n",
    "\n",
    "def convert_Sqmts_to_sqft(x):\n",
    "    tokens = str(x).split('Sq. Meter')\n",
    "    if len(tokens) == 2:\n",
    "        return (float(tokens[0]) * 10.7369)\n",
    "    try:\n",
    "        return x\n",
    "    except:\n",
    "        return None\n",
    "    \n",
    "def convert_Sqyards_to_sqft(x):\n",
    "    tokens = str(x).split('Sq. Yards')\n",
    "    if len(tokens) == 2:\n",
    "        return (float(tokens[0]) * 9)\n",
    "    try:\n",
    "        return x\n",
    "    except:\n",
    "        return None\n",
    "    \n",
    "def convert_Cents_to_sqft(x):\n",
    "    tokens = str(x).split('Cents')\n",
    "    if len(tokens) == 2:\n",
    "        return (float(tokens[0]) * 435.56)\n",
    "    try:\n",
    "        return x\n",
    "    except:\n",
    "        return None\n",
    "    \n",
    "def convert_Acres_to_sqft(x):\n",
    "    tokens = str(x).split('Acres')\n",
    "    if len(tokens) == 2:\n",
    "        return (float(tokens[0]) * 43560)\n",
    "    try:\n",
    "        return x\n",
    "    except:\n",
    "        return None\n",
    "    \n",
    "def convert_Guntha_to_sqft(x):\n",
    "    tokens = str(x).split('Guntha')\n",
    "    if len(tokens) == 2:\n",
    "        return (float(tokens[0]) * 1089)\n",
    "    try:\n",
    "        return x\n",
    "    except:\n",
    "        return None\n",
    "    \n",
    "def convert_Grounds_to_sqft(x):\n",
    "    tokens = str(x).split('Grounds')\n",
    "    if len(tokens) == 2:\n",
    "        return (float(tokens[0]) * 2400)\n",
    "    try:\n",
    "        return x\n",
    "    except:\n",
    "        return None"
   ]
  },
  {
   "cell_type": "code",
   "execution_count": 17,
   "id": "6b922b0f",
   "metadata": {},
   "outputs": [],
   "source": [
    "main.total_sqft = main.total_sqft.apply(convert_range_to_avg_sqft)\n",
    "main.total_sqft = main.total_sqft.apply(convert_Sqmts_to_sqft)\n",
    "main.total_sqft = main.total_sqft.apply(convert_Sqyards_to_sqft)\n",
    "main.total_sqft = main.total_sqft.apply(convert_Cents_to_sqft)\n",
    "main.total_sqft = main.total_sqft.apply(convert_Acres_to_sqft)\n",
    "main.total_sqft = main.total_sqft.apply(convert_Guntha_to_sqft)\n",
    "main.total_sqft = main.total_sqft.apply(convert_Grounds_to_sqft)"
   ]
  },
  {
   "cell_type": "code",
   "execution_count": 18,
   "id": "ce0c4cb9",
   "metadata": {},
   "outputs": [
    {
     "name": "stdout",
     "output_type": "stream",
     "text": [
      "<class 'pandas.core.frame.DataFrame'>\n",
      "Int64Index: 10151 entries, 0 to 10655\n",
      "Data columns (total 7 columns):\n",
      " #   Column      Non-Null Count  Dtype  \n",
      "---  ------      --------------  -----  \n",
      " 0   area_type   10151 non-null  object \n",
      " 1   location    10151 non-null  object \n",
      " 2   total_sqft  10151 non-null  object \n",
      " 3   bath        10151 non-null  float64\n",
      " 4   balcony     10151 non-null  float64\n",
      " 5   price       10151 non-null  float64\n",
      " 6   BHK         10151 non-null  int64  \n",
      "dtypes: float64(3), int64(1), object(3)\n",
      "memory usage: 634.4+ KB\n"
     ]
    }
   ],
   "source": [
    "main.info()"
   ]
  },
  {
   "cell_type": "markdown",
   "id": "086c901c",
   "metadata": {},
   "source": [
    "### Let us convert the total_sqft column from object type to float type"
   ]
  },
  {
   "cell_type": "code",
   "execution_count": 19,
   "id": "15b9c704",
   "metadata": {},
   "outputs": [],
   "source": [
    "main['total_sqft'] = main['total_sqft'].astype(float)"
   ]
  },
  {
   "cell_type": "code",
   "execution_count": 20,
   "id": "ac2178d9",
   "metadata": {},
   "outputs": [
    {
     "name": "stdout",
     "output_type": "stream",
     "text": [
      "<class 'pandas.core.frame.DataFrame'>\n",
      "Int64Index: 10151 entries, 0 to 10655\n",
      "Data columns (total 7 columns):\n",
      " #   Column      Non-Null Count  Dtype  \n",
      "---  ------      --------------  -----  \n",
      " 0   area_type   10151 non-null  object \n",
      " 1   location    10151 non-null  object \n",
      " 2   total_sqft  10151 non-null  float64\n",
      " 3   bath        10151 non-null  float64\n",
      " 4   balcony     10151 non-null  float64\n",
      " 5   price       10151 non-null  float64\n",
      " 6   BHK         10151 non-null  int64  \n",
      "dtypes: float64(4), int64(1), object(2)\n",
      "memory usage: 634.4+ KB\n"
     ]
    }
   ],
   "source": [
    "main.info()"
   ]
  },
  {
   "cell_type": "markdown",
   "id": "6605334c",
   "metadata": {},
   "source": [
    "### Let us describe the data again and see the statistics"
   ]
  },
  {
   "cell_type": "code",
   "execution_count": 21,
   "id": "58645f66",
   "metadata": {},
   "outputs": [
    {
     "data": {
      "text/html": [
       "<div>\n",
       "<style scoped>\n",
       "    .dataframe tbody tr th:only-of-type {\n",
       "        vertical-align: middle;\n",
       "    }\n",
       "\n",
       "    .dataframe tbody tr th {\n",
       "        vertical-align: top;\n",
       "    }\n",
       "\n",
       "    .dataframe thead th {\n",
       "        text-align: right;\n",
       "    }\n",
       "</style>\n",
       "<table border=\"1\" class=\"dataframe\">\n",
       "  <thead>\n",
       "    <tr style=\"text-align: right;\">\n",
       "      <th></th>\n",
       "      <th>total_sqft</th>\n",
       "      <th>bath</th>\n",
       "      <th>balcony</th>\n",
       "      <th>price</th>\n",
       "      <th>BHK</th>\n",
       "    </tr>\n",
       "  </thead>\n",
       "  <tbody>\n",
       "    <tr>\n",
       "      <th>count</th>\n",
       "      <td>1.015100e+04</td>\n",
       "      <td>10151.000000</td>\n",
       "      <td>10151.000000</td>\n",
       "      <td>10151.000000</td>\n",
       "      <td>10151.000000</td>\n",
       "    </tr>\n",
       "    <tr>\n",
       "      <th>mean</th>\n",
       "      <td>1.830400e+03</td>\n",
       "      <td>2.616688</td>\n",
       "      <td>1.581716</td>\n",
       "      <td>105.714458</td>\n",
       "      <td>2.734804</td>\n",
       "    </tr>\n",
       "    <tr>\n",
       "      <th>std</th>\n",
       "      <td>1.613853e+04</td>\n",
       "      <td>1.246454</td>\n",
       "      <td>0.821387</td>\n",
       "      <td>128.936729</td>\n",
       "      <td>1.228002</td>\n",
       "    </tr>\n",
       "    <tr>\n",
       "      <th>min</th>\n",
       "      <td>5.000000e+00</td>\n",
       "      <td>1.000000</td>\n",
       "      <td>0.000000</td>\n",
       "      <td>8.000000</td>\n",
       "      <td>1.000000</td>\n",
       "    </tr>\n",
       "    <tr>\n",
       "      <th>25%</th>\n",
       "      <td>1.095000e+03</td>\n",
       "      <td>2.000000</td>\n",
       "      <td>1.000000</td>\n",
       "      <td>49.000000</td>\n",
       "      <td>2.000000</td>\n",
       "    </tr>\n",
       "    <tr>\n",
       "      <th>50%</th>\n",
       "      <td>1.258000e+03</td>\n",
       "      <td>2.000000</td>\n",
       "      <td>2.000000</td>\n",
       "      <td>70.000000</td>\n",
       "      <td>3.000000</td>\n",
       "    </tr>\n",
       "    <tr>\n",
       "      <th>75%</th>\n",
       "      <td>1.639000e+03</td>\n",
       "      <td>3.000000</td>\n",
       "      <td>2.000000</td>\n",
       "      <td>115.000000</td>\n",
       "      <td>3.000000</td>\n",
       "    </tr>\n",
       "    <tr>\n",
       "      <th>max</th>\n",
       "      <td>1.306800e+06</td>\n",
       "      <td>40.000000</td>\n",
       "      <td>3.000000</td>\n",
       "      <td>2700.000000</td>\n",
       "      <td>43.000000</td>\n",
       "    </tr>\n",
       "  </tbody>\n",
       "</table>\n",
       "</div>"
      ],
      "text/plain": [
       "         total_sqft          bath       balcony         price           BHK\n",
       "count  1.015100e+04  10151.000000  10151.000000  10151.000000  10151.000000\n",
       "mean   1.830400e+03      2.616688      1.581716    105.714458      2.734804\n",
       "std    1.613853e+04      1.246454      0.821387    128.936729      1.228002\n",
       "min    5.000000e+00      1.000000      0.000000      8.000000      1.000000\n",
       "25%    1.095000e+03      2.000000      1.000000     49.000000      2.000000\n",
       "50%    1.258000e+03      2.000000      2.000000     70.000000      3.000000\n",
       "75%    1.639000e+03      3.000000      2.000000    115.000000      3.000000\n",
       "max    1.306800e+06     40.000000      3.000000   2700.000000     43.000000"
      ]
     },
     "execution_count": 21,
     "metadata": {},
     "output_type": "execute_result"
    }
   ],
   "source": [
    "main.describe()"
   ]
  },
  {
   "cell_type": "markdown",
   "id": "cac5c63f",
   "metadata": {},
   "source": [
    "- We also have 3 at 75th percentile for BHK but 43 at max value of BHK. Unlikely that a house will have 43 BHKs. This is a similar case like Bath data distribution. The data here is skewed. Let us visualize using a scatter plot and see the distribution."
   ]
  },
  {
   "cell_type": "code",
   "execution_count": 22,
   "id": "121563c0",
   "metadata": {},
   "outputs": [
    {
     "data": {
      "image/png": "[encoded data removed]",
      "text/plain": [
       "<Figure size 3600x1440 with 1 Axes>"
      ]
     },
     "metadata": {
      "needs_background": "light"
     },
     "output_type": "display_data"
    }
   ],
   "source": [
    "sns.scatterplot(x = 'bath', y = 'price', data = main)\n",
    "plt.show()"
   ]
  },
  {
   "cell_type": "markdown",
   "id": "dc00f3d9",
   "metadata": {},
   "source": [
    "- We have clear outliers after 15 for bath variable."
   ]
  },
  {
   "cell_type": "code",
   "execution_count": 23,
   "id": "3816abb9",
   "metadata": {},
   "outputs": [
    {
     "data": {
      "image/png": "[encoded data removed]",
      "text/plain": [
       "<Figure size 3600x1440 with 1 Axes>"
      ]
     },
     "metadata": {
      "needs_background": "light"
     },
     "output_type": "display_data"
    }
   ],
   "source": [
    "sns.scatterplot(x = 'BHK', y = 'price', data = main)\n",
    "plt.show()"
   ]
  },
  {
   "cell_type": "markdown",
   "id": "72f3258e",
   "metadata": {},
   "source": [
    "- We have clear outliers after 15 for BHK variable as well."
   ]
  },
  {
   "cell_type": "markdown",
   "id": "96ca26a9",
   "metadata": {},
   "source": [
    "### Also, the rows which had 40 bedrooms and bath are outliers. The price is too low for the number of bedrooms or bath the house is offering. Let us delete rows with beds > 15 and baths > 16"
   ]
  },
  {
   "cell_type": "code",
   "execution_count": 24,
   "id": "a0b8f7de",
   "metadata": {},
   "outputs": [],
   "source": [
    "main[main['bath'] > 15].index\n",
    "main = main.drop(main[main['bath'] > 15].index, axis = 0)"
   ]
  },
  {
   "cell_type": "code",
   "execution_count": 25,
   "id": "d0d55ae8",
   "metadata": {},
   "outputs": [],
   "source": [
    "main[main['BHK'] > 15].index\n",
    "main = main.drop(main[main['BHK'] > 15].index, axis = 0)"
   ]
  },
  {
   "cell_type": "code",
   "execution_count": 26,
   "id": "dc02499c",
   "metadata": {},
   "outputs": [
    {
     "data": {
      "text/html": [
       "<div>\n",
       "<style scoped>\n",
       "    .dataframe tbody tr th:only-of-type {\n",
       "        vertical-align: middle;\n",
       "    }\n",
       "\n",
       "    .dataframe tbody tr th {\n",
       "        vertical-align: top;\n",
       "    }\n",
       "\n",
       "    .dataframe thead th {\n",
       "        text-align: right;\n",
       "    }\n",
       "</style>\n",
       "<table border=\"1\" class=\"dataframe\">\n",
       "  <thead>\n",
       "    <tr style=\"text-align: right;\">\n",
       "      <th></th>\n",
       "      <th>area_type</th>\n",
       "      <th>location</th>\n",
       "      <th>total_sqft</th>\n",
       "      <th>bath</th>\n",
       "      <th>balcony</th>\n",
       "      <th>price</th>\n",
       "      <th>BHK</th>\n",
       "    </tr>\n",
       "  </thead>\n",
       "  <tbody>\n",
       "    <tr>\n",
       "      <th>0</th>\n",
       "      <td>Super built-up  Area</td>\n",
       "      <td>Electronic City Phase II</td>\n",
       "      <td>1056.0</td>\n",
       "      <td>2.0</td>\n",
       "      <td>1.0</td>\n",
       "      <td>39.07</td>\n",
       "      <td>2</td>\n",
       "    </tr>\n",
       "    <tr>\n",
       "      <th>1</th>\n",
       "      <td>Plot  Area</td>\n",
       "      <td>Chikka Tirupathi</td>\n",
       "      <td>2600.0</td>\n",
       "      <td>5.0</td>\n",
       "      <td>3.0</td>\n",
       "      <td>120.00</td>\n",
       "      <td>4</td>\n",
       "    </tr>\n",
       "    <tr>\n",
       "      <th>2</th>\n",
       "      <td>Built-up  Area</td>\n",
       "      <td>Uttarahalli</td>\n",
       "      <td>1440.0</td>\n",
       "      <td>2.0</td>\n",
       "      <td>3.0</td>\n",
       "      <td>62.00</td>\n",
       "      <td>3</td>\n",
       "    </tr>\n",
       "    <tr>\n",
       "      <th>3</th>\n",
       "      <td>Super built-up  Area</td>\n",
       "      <td>Lingadheeranahalli</td>\n",
       "      <td>1521.0</td>\n",
       "      <td>3.0</td>\n",
       "      <td>1.0</td>\n",
       "      <td>95.00</td>\n",
       "      <td>3</td>\n",
       "    </tr>\n",
       "    <tr>\n",
       "      <th>4</th>\n",
       "      <td>Super built-up  Area</td>\n",
       "      <td>Kothanur</td>\n",
       "      <td>1200.0</td>\n",
       "      <td>2.0</td>\n",
       "      <td>1.0</td>\n",
       "      <td>51.00</td>\n",
       "      <td>2</td>\n",
       "    </tr>\n",
       "    <tr>\n",
       "      <th>...</th>\n",
       "      <td>...</td>\n",
       "      <td>...</td>\n",
       "      <td>...</td>\n",
       "      <td>...</td>\n",
       "      <td>...</td>\n",
       "      <td>...</td>\n",
       "      <td>...</td>\n",
       "    </tr>\n",
       "    <tr>\n",
       "      <th>10651</th>\n",
       "      <td>Plot  Area</td>\n",
       "      <td>Parappana Agrahara</td>\n",
       "      <td>1200.0</td>\n",
       "      <td>1.0</td>\n",
       "      <td>0.0</td>\n",
       "      <td>45.00</td>\n",
       "      <td>1</td>\n",
       "    </tr>\n",
       "    <tr>\n",
       "      <th>10652</th>\n",
       "      <td>Super built-up  Area</td>\n",
       "      <td>Bhoganhalli</td>\n",
       "      <td>1260.0</td>\n",
       "      <td>2.0</td>\n",
       "      <td>1.0</td>\n",
       "      <td>69.90</td>\n",
       "      <td>2</td>\n",
       "    </tr>\n",
       "    <tr>\n",
       "      <th>10653</th>\n",
       "      <td>Super built-up  Area</td>\n",
       "      <td>Doddanakundi Industrial Area 2</td>\n",
       "      <td>1092.0</td>\n",
       "      <td>2.0</td>\n",
       "      <td>1.0</td>\n",
       "      <td>49.00</td>\n",
       "      <td>2</td>\n",
       "    </tr>\n",
       "    <tr>\n",
       "      <th>10654</th>\n",
       "      <td>Super built-up  Area</td>\n",
       "      <td>Kachanayakanahalli</td>\n",
       "      <td>827.0</td>\n",
       "      <td>2.0</td>\n",
       "      <td>0.0</td>\n",
       "      <td>34.00</td>\n",
       "      <td>2</td>\n",
       "    </tr>\n",
       "    <tr>\n",
       "      <th>10655</th>\n",
       "      <td>Super built-up  Area</td>\n",
       "      <td>Horamavu Banaswadi</td>\n",
       "      <td>1357.0</td>\n",
       "      <td>2.0</td>\n",
       "      <td>2.0</td>\n",
       "      <td>54.00</td>\n",
       "      <td>2</td>\n",
       "    </tr>\n",
       "  </tbody>\n",
       "</table>\n",
       "<p>10149 rows × 7 columns</p>\n",
       "</div>"
      ],
      "text/plain": [
       "                  area_type                        location  total_sqft  bath  \\\n",
       "0      Super built-up  Area        Electronic City Phase II      1056.0   2.0   \n",
       "1                Plot  Area                Chikka Tirupathi      2600.0   5.0   \n",
       "2            Built-up  Area                     Uttarahalli      1440.0   2.0   \n",
       "3      Super built-up  Area              Lingadheeranahalli      1521.0   3.0   \n",
       "4      Super built-up  Area                        Kothanur      1200.0   2.0   \n",
       "...                     ...                             ...         ...   ...   \n",
       "10651            Plot  Area              Parappana Agrahara      1200.0   1.0   \n",
       "10652  Super built-up  Area                     Bhoganhalli      1260.0   2.0   \n",
       "10653  Super built-up  Area  Doddanakundi Industrial Area 2      1092.0   2.0   \n",
       "10654  Super built-up  Area              Kachanayakanahalli       827.0   2.0   \n",
       "10655  Super built-up  Area              Horamavu Banaswadi      1357.0   2.0   \n",
       "\n",
       "       balcony   price  BHK  \n",
       "0          1.0   39.07    2  \n",
       "1          3.0  120.00    4  \n",
       "2          3.0   62.00    3  \n",
       "3          1.0   95.00    3  \n",
       "4          1.0   51.00    2  \n",
       "...        ...     ...  ...  \n",
       "10651      0.0   45.00    1  \n",
       "10652      1.0   69.90    2  \n",
       "10653      1.0   49.00    2  \n",
       "10654      0.0   34.00    2  \n",
       "10655      2.0   54.00    2  \n",
       "\n",
       "[10149 rows x 7 columns]"
      ]
     },
     "execution_count": 26,
     "metadata": {},
     "output_type": "execute_result"
    }
   ],
   "source": [
    "main"
   ]
  },
  {
   "cell_type": "code",
   "execution_count": 27,
   "id": "4c8bf669",
   "metadata": {},
   "outputs": [
    {
     "data": {
      "image/png": "[encoded data removed]",
      "text/plain": [
       "<Figure size 3600x1440 with 1 Axes>"
      ]
     },
     "metadata": {
      "needs_background": "light"
     },
     "output_type": "display_data"
    }
   ],
   "source": [
    "sns.scatterplot(x = 'bath', y = 'price', data = main)\n",
    "plt.show()"
   ]
  },
  {
   "cell_type": "markdown",
   "id": "ee5c4562",
   "metadata": {},
   "source": [
    "- We have removed the outliers"
   ]
  },
  {
   "cell_type": "code",
   "execution_count": 28,
   "id": "27789ea2",
   "metadata": {},
   "outputs": [
    {
     "data": {
      "image/png": "[encoded data removed]",
      "text/plain": [
       "<Figure size 3600x1440 with 1 Axes>"
      ]
     },
     "metadata": {
      "needs_background": "light"
     },
     "output_type": "display_data"
    }
   ],
   "source": [
    "sns.scatterplot(x = 'BHK', y = 'price', data = main)\n",
    "plt.show()"
   ]
  },
  {
   "cell_type": "markdown",
   "id": "54fee4a7",
   "metadata": {},
   "source": [
    "- We have removed the outliers"
   ]
  },
  {
   "cell_type": "markdown",
   "id": "c63204ce",
   "metadata": {},
   "source": [
    "### Now let us merge our main dataset with the 2 reference datasets that has avg_2bhk_rent and dist_from_city_centre based on location column and then treat the missing values"
   ]
  },
  {
   "cell_type": "code",
   "execution_count": 29,
   "id": "94e862fd",
   "metadata": {},
   "outputs": [
    {
     "data": {
      "text/html": [
       "<div>\n",
       "<style scoped>\n",
       "    .dataframe tbody tr th:only-of-type {\n",
       "        vertical-align: middle;\n",
       "    }\n",
       "\n",
       "    .dataframe tbody tr th {\n",
       "        vertical-align: top;\n",
       "    }\n",
       "\n",
       "    .dataframe thead th {\n",
       "        text-align: right;\n",
       "    }\n",
       "</style>\n",
       "<table border=\"1\" class=\"dataframe\">\n",
       "  <thead>\n",
       "    <tr style=\"text-align: right;\">\n",
       "      <th></th>\n",
       "      <th>location</th>\n",
       "      <th>avg_2bhk_rent</th>\n",
       "    </tr>\n",
       "  </thead>\n",
       "  <tbody>\n",
       "    <tr>\n",
       "      <th>0</th>\n",
       "      <td>Krishnarajapura</td>\n",
       "      <td>11954</td>\n",
       "    </tr>\n",
       "    <tr>\n",
       "      <th>1</th>\n",
       "      <td>Sarjapur</td>\n",
       "      <td>45000</td>\n",
       "    </tr>\n",
       "    <tr>\n",
       "      <th>2</th>\n",
       "      <td>Whitefield Hope Farm Junction</td>\n",
       "      <td>26370</td>\n",
       "    </tr>\n",
       "    <tr>\n",
       "      <th>3</th>\n",
       "      <td>Devanahalli</td>\n",
       "      <td>17302</td>\n",
       "    </tr>\n",
       "    <tr>\n",
       "      <th>4</th>\n",
       "      <td>Whitefield</td>\n",
       "      <td>14981</td>\n",
       "    </tr>\n",
       "  </tbody>\n",
       "</table>\n",
       "</div>"
      ],
      "text/plain": [
       "                        location  avg_2bhk_rent\n",
       "0                Krishnarajapura          11954\n",
       "1                       Sarjapur          45000\n",
       "2  Whitefield Hope Farm Junction          26370\n",
       "3                    Devanahalli          17302\n",
       "4                     Whitefield          14981"
      ]
     },
     "execution_count": 29,
     "metadata": {},
     "output_type": "execute_result"
    }
   ],
   "source": [
    "rent = pd.read_csv('avg_rent.csv')\n",
    "rent.head()"
   ]
  },
  {
   "cell_type": "code",
   "execution_count": 30,
   "id": "4708e8d6",
   "metadata": {},
   "outputs": [
    {
     "data": {
      "text/html": [
       "<div>\n",
       "<style scoped>\n",
       "    .dataframe tbody tr th:only-of-type {\n",
       "        vertical-align: middle;\n",
       "    }\n",
       "\n",
       "    .dataframe tbody tr th {\n",
       "        vertical-align: top;\n",
       "    }\n",
       "\n",
       "    .dataframe thead th {\n",
       "        text-align: right;\n",
       "    }\n",
       "</style>\n",
       "<table border=\"1\" class=\"dataframe\">\n",
       "  <thead>\n",
       "    <tr style=\"text-align: right;\">\n",
       "      <th></th>\n",
       "      <th>location</th>\n",
       "      <th>dist_from_city</th>\n",
       "    </tr>\n",
       "  </thead>\n",
       "  <tbody>\n",
       "    <tr>\n",
       "      <th>0</th>\n",
       "      <td>Whitefield</td>\n",
       "      <td>17.3</td>\n",
       "    </tr>\n",
       "    <tr>\n",
       "      <th>1</th>\n",
       "      <td>Sarjapur  Road</td>\n",
       "      <td>17.2</td>\n",
       "    </tr>\n",
       "    <tr>\n",
       "      <th>2</th>\n",
       "      <td>Electronic City</td>\n",
       "      <td>18.1</td>\n",
       "    </tr>\n",
       "    <tr>\n",
       "      <th>3</th>\n",
       "      <td>Kanakpura Road</td>\n",
       "      <td>26.5</td>\n",
       "    </tr>\n",
       "    <tr>\n",
       "      <th>4</th>\n",
       "      <td>Thanisandra</td>\n",
       "      <td>11.5</td>\n",
       "    </tr>\n",
       "  </tbody>\n",
       "</table>\n",
       "</div>"
      ],
      "text/plain": [
       "          location  dist_from_city\n",
       "0       Whitefield            17.3\n",
       "1   Sarjapur  Road            17.2\n",
       "2  Electronic City            18.1\n",
       "3   Kanakpura Road            26.5\n",
       "4      Thanisandra            11.5"
      ]
     },
     "execution_count": 30,
     "metadata": {},
     "output_type": "execute_result"
    }
   ],
   "source": [
    "dist = pd.read_csv('dist_from_city_centre.csv')\n",
    "dist.head()"
   ]
  },
  {
   "cell_type": "code",
   "execution_count": 31,
   "id": "138d9ef5",
   "metadata": {},
   "outputs": [
    {
     "data": {
      "text/html": [
       "<div>\n",
       "<style scoped>\n",
       "    .dataframe tbody tr th:only-of-type {\n",
       "        vertical-align: middle;\n",
       "    }\n",
       "\n",
       "    .dataframe tbody tr th {\n",
       "        vertical-align: top;\n",
       "    }\n",
       "\n",
       "    .dataframe thead th {\n",
       "        text-align: right;\n",
       "    }\n",
       "</style>\n",
       "<table border=\"1\" class=\"dataframe\">\n",
       "  <thead>\n",
       "    <tr style=\"text-align: right;\">\n",
       "      <th></th>\n",
       "      <th>area_type</th>\n",
       "      <th>location</th>\n",
       "      <th>total_sqft</th>\n",
       "      <th>bath</th>\n",
       "      <th>balcony</th>\n",
       "      <th>price</th>\n",
       "      <th>BHK</th>\n",
       "      <th>avg_2bhk_rent</th>\n",
       "    </tr>\n",
       "  </thead>\n",
       "  <tbody>\n",
       "    <tr>\n",
       "      <th>0</th>\n",
       "      <td>Super built-up  Area</td>\n",
       "      <td>Electronic City Phase II</td>\n",
       "      <td>1056.0</td>\n",
       "      <td>2.0</td>\n",
       "      <td>1.0</td>\n",
       "      <td>39.07</td>\n",
       "      <td>2</td>\n",
       "      <td>11500.0</td>\n",
       "    </tr>\n",
       "    <tr>\n",
       "      <th>1</th>\n",
       "      <td>Plot  Area</td>\n",
       "      <td>Chikka Tirupathi</td>\n",
       "      <td>2600.0</td>\n",
       "      <td>5.0</td>\n",
       "      <td>3.0</td>\n",
       "      <td>120.00</td>\n",
       "      <td>4</td>\n",
       "      <td>NaN</td>\n",
       "    </tr>\n",
       "    <tr>\n",
       "      <th>2</th>\n",
       "      <td>Built-up  Area</td>\n",
       "      <td>Uttarahalli</td>\n",
       "      <td>1440.0</td>\n",
       "      <td>2.0</td>\n",
       "      <td>3.0</td>\n",
       "      <td>62.00</td>\n",
       "      <td>3</td>\n",
       "      <td>19750.0</td>\n",
       "    </tr>\n",
       "    <tr>\n",
       "      <th>3</th>\n",
       "      <td>Super built-up  Area</td>\n",
       "      <td>Lingadheeranahalli</td>\n",
       "      <td>1521.0</td>\n",
       "      <td>3.0</td>\n",
       "      <td>1.0</td>\n",
       "      <td>95.00</td>\n",
       "      <td>3</td>\n",
       "      <td>NaN</td>\n",
       "    </tr>\n",
       "    <tr>\n",
       "      <th>4</th>\n",
       "      <td>Super built-up  Area</td>\n",
       "      <td>Kothanur</td>\n",
       "      <td>1200.0</td>\n",
       "      <td>2.0</td>\n",
       "      <td>1.0</td>\n",
       "      <td>51.00</td>\n",
       "      <td>2</td>\n",
       "      <td>16375.0</td>\n",
       "    </tr>\n",
       "  </tbody>\n",
       "</table>\n",
       "</div>"
      ],
      "text/plain": [
       "              area_type                  location  total_sqft  bath  balcony  \\\n",
       "0  Super built-up  Area  Electronic City Phase II      1056.0   2.0      1.0   \n",
       "1            Plot  Area          Chikka Tirupathi      2600.0   5.0      3.0   \n",
       "2        Built-up  Area               Uttarahalli      1440.0   2.0      3.0   \n",
       "3  Super built-up  Area        Lingadheeranahalli      1521.0   3.0      1.0   \n",
       "4  Super built-up  Area                  Kothanur      1200.0   2.0      1.0   \n",
       "\n",
       "    price  BHK  avg_2bhk_rent  \n",
       "0   39.07    2        11500.0  \n",
       "1  120.00    4            NaN  \n",
       "2   62.00    3        19750.0  \n",
       "3   95.00    3            NaN  \n",
       "4   51.00    2        16375.0  "
      ]
     },
     "execution_count": 31,
     "metadata": {},
     "output_type": "execute_result"
    }
   ],
   "source": [
    "main = pd.merge(main, rent, 'left', 'location')\n",
    "main.head()"
   ]
  },
  {
   "cell_type": "code",
   "execution_count": 32,
   "id": "7e018308",
   "metadata": {},
   "outputs": [
    {
     "data": {
      "text/html": [
       "<div>\n",
       "<style scoped>\n",
       "    .dataframe tbody tr th:only-of-type {\n",
       "        vertical-align: middle;\n",
       "    }\n",
       "\n",
       "    .dataframe tbody tr th {\n",
       "        vertical-align: top;\n",
       "    }\n",
       "\n",
       "    .dataframe thead th {\n",
       "        text-align: right;\n",
       "    }\n",
       "</style>\n",
       "<table border=\"1\" class=\"dataframe\">\n",
       "  <thead>\n",
       "    <tr style=\"text-align: right;\">\n",
       "      <th></th>\n",
       "      <th>area_type</th>\n",
       "      <th>location</th>\n",
       "      <th>total_sqft</th>\n",
       "      <th>bath</th>\n",
       "      <th>balcony</th>\n",
       "      <th>price</th>\n",
       "      <th>BHK</th>\n",
       "      <th>avg_2bhk_rent</th>\n",
       "      <th>dist_from_city</th>\n",
       "    </tr>\n",
       "  </thead>\n",
       "  <tbody>\n",
       "    <tr>\n",
       "      <th>0</th>\n",
       "      <td>Super built-up  Area</td>\n",
       "      <td>Electronic City Phase II</td>\n",
       "      <td>1056.0</td>\n",
       "      <td>2.0</td>\n",
       "      <td>1.0</td>\n",
       "      <td>39.07</td>\n",
       "      <td>2</td>\n",
       "      <td>11500.0</td>\n",
       "      <td>19.3</td>\n",
       "    </tr>\n",
       "    <tr>\n",
       "      <th>1</th>\n",
       "      <td>Plot  Area</td>\n",
       "      <td>Chikka Tirupathi</td>\n",
       "      <td>2600.0</td>\n",
       "      <td>5.0</td>\n",
       "      <td>3.0</td>\n",
       "      <td>120.00</td>\n",
       "      <td>4</td>\n",
       "      <td>NaN</td>\n",
       "      <td>34.6</td>\n",
       "    </tr>\n",
       "    <tr>\n",
       "      <th>2</th>\n",
       "      <td>Built-up  Area</td>\n",
       "      <td>Uttarahalli</td>\n",
       "      <td>1440.0</td>\n",
       "      <td>2.0</td>\n",
       "      <td>3.0</td>\n",
       "      <td>62.00</td>\n",
       "      <td>3</td>\n",
       "      <td>19750.0</td>\n",
       "      <td>12.9</td>\n",
       "    </tr>\n",
       "    <tr>\n",
       "      <th>3</th>\n",
       "      <td>Super built-up  Area</td>\n",
       "      <td>Lingadheeranahalli</td>\n",
       "      <td>1521.0</td>\n",
       "      <td>3.0</td>\n",
       "      <td>1.0</td>\n",
       "      <td>95.00</td>\n",
       "      <td>3</td>\n",
       "      <td>NaN</td>\n",
       "      <td>21.4</td>\n",
       "    </tr>\n",
       "    <tr>\n",
       "      <th>4</th>\n",
       "      <td>Super built-up  Area</td>\n",
       "      <td>Kothanur</td>\n",
       "      <td>1200.0</td>\n",
       "      <td>2.0</td>\n",
       "      <td>1.0</td>\n",
       "      <td>51.00</td>\n",
       "      <td>2</td>\n",
       "      <td>16375.0</td>\n",
       "      <td>11.8</td>\n",
       "    </tr>\n",
       "  </tbody>\n",
       "</table>\n",
       "</div>"
      ],
      "text/plain": [
       "              area_type                  location  total_sqft  bath  balcony  \\\n",
       "0  Super built-up  Area  Electronic City Phase II      1056.0   2.0      1.0   \n",
       "1            Plot  Area          Chikka Tirupathi      2600.0   5.0      3.0   \n",
       "2        Built-up  Area               Uttarahalli      1440.0   2.0      3.0   \n",
       "3  Super built-up  Area        Lingadheeranahalli      1521.0   3.0      1.0   \n",
       "4  Super built-up  Area                  Kothanur      1200.0   2.0      1.0   \n",
       "\n",
       "    price  BHK  avg_2bhk_rent  dist_from_city  \n",
       "0   39.07    2        11500.0            19.3  \n",
       "1  120.00    4            NaN            34.6  \n",
       "2   62.00    3        19750.0            12.9  \n",
       "3   95.00    3            NaN            21.4  \n",
       "4   51.00    2        16375.0            11.8  "
      ]
     },
     "execution_count": 32,
     "metadata": {},
     "output_type": "execute_result"
    }
   ],
   "source": [
    "main = pd.merge(main, dist, 'left', 'location')\n",
    "main.head()"
   ]
  },
  {
   "cell_type": "code",
   "execution_count": 33,
   "id": "ade3f5b1",
   "metadata": {},
   "outputs": [
    {
     "data": {
      "text/plain": [
       "area_type            0\n",
       "location             0\n",
       "total_sqft           0\n",
       "bath                 0\n",
       "balcony              0\n",
       "price                0\n",
       "BHK                  0\n",
       "avg_2bhk_rent     6634\n",
       "dist_from_city     956\n",
       "dtype: int64"
      ]
     },
     "execution_count": 33,
     "metadata": {},
     "output_type": "execute_result"
    }
   ],
   "source": [
    "main.isnull().sum()"
   ]
  },
  {
   "cell_type": "markdown",
   "id": "0f818c5a",
   "metadata": {},
   "source": [
    "### Let us impute the missing values for avg_2bhk_rent with 1.5 times the avg 2bhk rent (because the rent values are for 2 bhks and our main dataset has more than 2bhk houses. To not be biased because of this reason, let us just consider 1.5 times the average so majority that is 3 bhk and 4 bhk houses rents are imputed reasonably."
   ]
  },
  {
   "cell_type": "code",
   "execution_count": 34,
   "id": "1f0e3199",
   "metadata": {},
   "outputs": [
    {
     "data": {
      "image/png": "[encoded data removed]",
      "text/plain": [
       "<Figure size 3600x1440 with 1 Axes>"
      ]
     },
     "metadata": {
      "needs_background": "light"
     },
     "output_type": "display_data"
    }
   ],
   "source": [
    "sns.countplot(x = 'BHK', data = main)\n",
    "plt.show()"
   ]
  },
  {
   "cell_type": "code",
   "execution_count": 35,
   "id": "d153b508",
   "metadata": {
    "scrolled": true
   },
   "outputs": [],
   "source": [
    "main.avg_2bhk_rent.fillna(main.avg_2bhk_rent.mean() * 1.5, inplace=True)"
   ]
  },
  {
   "cell_type": "code",
   "execution_count": 36,
   "id": "19d720c8",
   "metadata": {},
   "outputs": [
    {
     "data": {
      "text/plain": [
       "area_type           0\n",
       "location            0\n",
       "total_sqft          0\n",
       "bath                0\n",
       "balcony             0\n",
       "price               0\n",
       "BHK                 0\n",
       "avg_2bhk_rent       0\n",
       "dist_from_city    956\n",
       "dtype: int64"
      ]
     },
     "execution_count": 36,
     "metadata": {},
     "output_type": "execute_result"
    }
   ],
   "source": [
    "main.isnull().sum()"
   ]
  },
  {
   "cell_type": "markdown",
   "id": "d639a9d9",
   "metadata": {},
   "source": [
    "### for imputing the missing values in location, let us take the mode distance and use that for the imputation since there is no much difference between mode and mean distance. We are taking the decision to use mode which is more than mean considering the max distance and also the actual mean wont be affected much considering the number of missing values"
   ]
  },
  {
   "cell_type": "code",
   "execution_count": 37,
   "id": "24efb5d2",
   "metadata": {},
   "outputs": [
    {
     "data": {
      "image/png": "[encoded data removed]",
      "text/plain": [
       "<Figure size 3600x1440 with 1 Axes>"
      ]
     },
     "metadata": {
      "needs_background": "light"
     },
     "output_type": "display_data"
    }
   ],
   "source": [
    "sns.countplot(x = 'dist_from_city', data = main)\n",
    "plt.show()"
   ]
  },
  {
   "cell_type": "code",
   "execution_count": 38,
   "id": "2000cfbb",
   "metadata": {},
   "outputs": [
    {
     "data": {
      "text/plain": [
       "0    17.3\n",
       "Name: dist_from_city, dtype: float64"
      ]
     },
     "execution_count": 38,
     "metadata": {},
     "output_type": "execute_result"
    }
   ],
   "source": [
    "main.dist_from_city.mode()"
   ]
  },
  {
   "cell_type": "code",
   "execution_count": 39,
   "id": "fbe2ea12",
   "metadata": {},
   "outputs": [
    {
     "data": {
      "text/plain": [
       "47.7"
      ]
     },
     "execution_count": 39,
     "metadata": {},
     "output_type": "execute_result"
    }
   ],
   "source": [
    "main.dist_from_city.max()"
   ]
  },
  {
   "cell_type": "code",
   "execution_count": 40,
   "id": "8813a12a",
   "metadata": {},
   "outputs": [
    {
     "data": {
      "text/plain": [
       "15.235820733166443"
      ]
     },
     "execution_count": 40,
     "metadata": {},
     "output_type": "execute_result"
    }
   ],
   "source": [
    "main.dist_from_city.mean()"
   ]
  },
  {
   "cell_type": "code",
   "execution_count": 41,
   "id": "e7eca99e",
   "metadata": {},
   "outputs": [],
   "source": [
    "main.dist_from_city.fillna(main.dist_from_city.mode()[0], inplace=True)"
   ]
  },
  {
   "cell_type": "code",
   "execution_count": 42,
   "id": "1497828d",
   "metadata": {},
   "outputs": [
    {
     "data": {
      "text/plain": [
       "area_type         0\n",
       "location          0\n",
       "total_sqft        0\n",
       "bath              0\n",
       "balcony           0\n",
       "price             0\n",
       "BHK               0\n",
       "avg_2bhk_rent     0\n",
       "dist_from_city    0\n",
       "dtype: int64"
      ]
     },
     "execution_count": 42,
     "metadata": {},
     "output_type": "execute_result"
    }
   ],
   "source": [
    "main.isnull().sum()"
   ]
  },
  {
   "cell_type": "code",
   "execution_count": 43,
   "id": "18e85bf8",
   "metadata": {},
   "outputs": [
    {
     "data": {
      "text/plain": [
       "15.43025913883121"
      ]
     },
     "execution_count": 43,
     "metadata": {},
     "output_type": "execute_result"
    }
   ],
   "source": [
    "main.dist_from_city.mean()"
   ]
  },
  {
   "cell_type": "markdown",
   "id": "c775064d",
   "metadata": {},
   "source": [
    "### Let us now feature engineer the location column"
   ]
  },
  {
   "cell_type": "markdown",
   "id": "c46011cb",
   "metadata": {},
   "source": [
    "### Let us now Label encode the location considering that dummy encoding will create more features that the test dataset may not match. (based on previous iterations/trials)"
   ]
  },
  {
   "cell_type": "code",
   "execution_count": 44,
   "id": "063456d9",
   "metadata": {},
   "outputs": [
    {
     "data": {
      "text/html": [
       "<div>\n",
       "<style scoped>\n",
       "    .dataframe tbody tr th:only-of-type {\n",
       "        vertical-align: middle;\n",
       "    }\n",
       "\n",
       "    .dataframe tbody tr th {\n",
       "        vertical-align: top;\n",
       "    }\n",
       "\n",
       "    .dataframe thead th {\n",
       "        text-align: right;\n",
       "    }\n",
       "</style>\n",
       "<table border=\"1\" class=\"dataframe\">\n",
       "  <thead>\n",
       "    <tr style=\"text-align: right;\">\n",
       "      <th></th>\n",
       "      <th>area_type</th>\n",
       "      <th>location</th>\n",
       "      <th>total_sqft</th>\n",
       "      <th>bath</th>\n",
       "      <th>balcony</th>\n",
       "      <th>price</th>\n",
       "      <th>BHK</th>\n",
       "      <th>avg_2bhk_rent</th>\n",
       "      <th>dist_from_city</th>\n",
       "    </tr>\n",
       "  </thead>\n",
       "  <tbody>\n",
       "    <tr>\n",
       "      <th>0</th>\n",
       "      <td>Super built-up  Area</td>\n",
       "      <td>Electronic City Phase II</td>\n",
       "      <td>1056.0</td>\n",
       "      <td>2.0</td>\n",
       "      <td>1.0</td>\n",
       "      <td>39.07</td>\n",
       "      <td>2</td>\n",
       "      <td>11500.000000</td>\n",
       "      <td>19.3</td>\n",
       "    </tr>\n",
       "    <tr>\n",
       "      <th>1</th>\n",
       "      <td>Plot  Area</td>\n",
       "      <td>Chikka Tirupathi</td>\n",
       "      <td>2600.0</td>\n",
       "      <td>5.0</td>\n",
       "      <td>3.0</td>\n",
       "      <td>120.00</td>\n",
       "      <td>4</td>\n",
       "      <td>23014.768421</td>\n",
       "      <td>34.6</td>\n",
       "    </tr>\n",
       "    <tr>\n",
       "      <th>2</th>\n",
       "      <td>Built-up  Area</td>\n",
       "      <td>Uttarahalli</td>\n",
       "      <td>1440.0</td>\n",
       "      <td>2.0</td>\n",
       "      <td>3.0</td>\n",
       "      <td>62.00</td>\n",
       "      <td>3</td>\n",
       "      <td>19750.000000</td>\n",
       "      <td>12.9</td>\n",
       "    </tr>\n",
       "    <tr>\n",
       "      <th>3</th>\n",
       "      <td>Super built-up  Area</td>\n",
       "      <td>Lingadheeranahalli</td>\n",
       "      <td>1521.0</td>\n",
       "      <td>3.0</td>\n",
       "      <td>1.0</td>\n",
       "      <td>95.00</td>\n",
       "      <td>3</td>\n",
       "      <td>23014.768421</td>\n",
       "      <td>21.4</td>\n",
       "    </tr>\n",
       "    <tr>\n",
       "      <th>4</th>\n",
       "      <td>Super built-up  Area</td>\n",
       "      <td>Kothanur</td>\n",
       "      <td>1200.0</td>\n",
       "      <td>2.0</td>\n",
       "      <td>1.0</td>\n",
       "      <td>51.00</td>\n",
       "      <td>2</td>\n",
       "      <td>16375.000000</td>\n",
       "      <td>11.8</td>\n",
       "    </tr>\n",
       "  </tbody>\n",
       "</table>\n",
       "</div>"
      ],
      "text/plain": [
       "              area_type                  location  total_sqft  bath  balcony  \\\n",
       "0  Super built-up  Area  Electronic City Phase II      1056.0   2.0      1.0   \n",
       "1            Plot  Area          Chikka Tirupathi      2600.0   5.0      3.0   \n",
       "2        Built-up  Area               Uttarahalli      1440.0   2.0      3.0   \n",
       "3  Super built-up  Area        Lingadheeranahalli      1521.0   3.0      1.0   \n",
       "4  Super built-up  Area                  Kothanur      1200.0   2.0      1.0   \n",
       "\n",
       "    price  BHK  avg_2bhk_rent  dist_from_city  \n",
       "0   39.07    2   11500.000000            19.3  \n",
       "1  120.00    4   23014.768421            34.6  \n",
       "2   62.00    3   19750.000000            12.9  \n",
       "3   95.00    3   23014.768421            21.4  \n",
       "4   51.00    2   16375.000000            11.8  "
      ]
     },
     "execution_count": 44,
     "metadata": {},
     "output_type": "execute_result"
    }
   ],
   "source": [
    "main.head()"
   ]
  },
  {
   "cell_type": "code",
   "execution_count": 45,
   "id": "14ad301c",
   "metadata": {},
   "outputs": [],
   "source": [
    "from sklearn.preprocessing import LabelEncoder"
   ]
  },
  {
   "cell_type": "code",
   "execution_count": 46,
   "id": "0be0601f",
   "metadata": {},
   "outputs": [],
   "source": [
    "lenc = LabelEncoder()\n",
    "main['location'] = lenc.fit_transform(main['location'])"
   ]
  },
  {
   "cell_type": "code",
   "execution_count": 47,
   "id": "5583af95",
   "metadata": {},
   "outputs": [
    {
     "data": {
      "text/html": [
       "<div>\n",
       "<style scoped>\n",
       "    .dataframe tbody tr th:only-of-type {\n",
       "        vertical-align: middle;\n",
       "    }\n",
       "\n",
       "    .dataframe tbody tr th {\n",
       "        vertical-align: top;\n",
       "    }\n",
       "\n",
       "    .dataframe thead th {\n",
       "        text-align: right;\n",
       "    }\n",
       "</style>\n",
       "<table border=\"1\" class=\"dataframe\">\n",
       "  <thead>\n",
       "    <tr style=\"text-align: right;\">\n",
       "      <th></th>\n",
       "      <th>area_type</th>\n",
       "      <th>location</th>\n",
       "      <th>total_sqft</th>\n",
       "      <th>bath</th>\n",
       "      <th>balcony</th>\n",
       "      <th>price</th>\n",
       "      <th>BHK</th>\n",
       "      <th>avg_2bhk_rent</th>\n",
       "      <th>dist_from_city</th>\n",
       "    </tr>\n",
       "  </thead>\n",
       "  <tbody>\n",
       "    <tr>\n",
       "      <th>0</th>\n",
       "      <td>Super built-up  Area</td>\n",
       "      <td>373</td>\n",
       "      <td>1056.0</td>\n",
       "      <td>2.0</td>\n",
       "      <td>1.0</td>\n",
       "      <td>39.07</td>\n",
       "      <td>2</td>\n",
       "      <td>11500.000000</td>\n",
       "      <td>19.3</td>\n",
       "    </tr>\n",
       "    <tr>\n",
       "      <th>1</th>\n",
       "      <td>Plot  Area</td>\n",
       "      <td>281</td>\n",
       "      <td>2600.0</td>\n",
       "      <td>5.0</td>\n",
       "      <td>3.0</td>\n",
       "      <td>120.00</td>\n",
       "      <td>4</td>\n",
       "      <td>23014.768421</td>\n",
       "      <td>34.6</td>\n",
       "    </tr>\n",
       "    <tr>\n",
       "      <th>2</th>\n",
       "      <td>Built-up  Area</td>\n",
       "      <td>1053</td>\n",
       "      <td>1440.0</td>\n",
       "      <td>2.0</td>\n",
       "      <td>3.0</td>\n",
       "      <td>62.00</td>\n",
       "      <td>3</td>\n",
       "      <td>19750.000000</td>\n",
       "      <td>12.9</td>\n",
       "    </tr>\n",
       "    <tr>\n",
       "      <th>3</th>\n",
       "      <td>Super built-up  Area</td>\n",
       "      <td>681</td>\n",
       "      <td>1521.0</td>\n",
       "      <td>3.0</td>\n",
       "      <td>1.0</td>\n",
       "      <td>95.00</td>\n",
       "      <td>3</td>\n",
       "      <td>23014.768421</td>\n",
       "      <td>21.4</td>\n",
       "    </tr>\n",
       "    <tr>\n",
       "      <th>4</th>\n",
       "      <td>Super built-up  Area</td>\n",
       "      <td>641</td>\n",
       "      <td>1200.0</td>\n",
       "      <td>2.0</td>\n",
       "      <td>1.0</td>\n",
       "      <td>51.00</td>\n",
       "      <td>2</td>\n",
       "      <td>16375.000000</td>\n",
       "      <td>11.8</td>\n",
       "    </tr>\n",
       "  </tbody>\n",
       "</table>\n",
       "</div>"
      ],
      "text/plain": [
       "              area_type  location  total_sqft  bath  balcony   price  BHK  \\\n",
       "0  Super built-up  Area       373      1056.0   2.0      1.0   39.07    2   \n",
       "1            Plot  Area       281      2600.0   5.0      3.0  120.00    4   \n",
       "2        Built-up  Area      1053      1440.0   2.0      3.0   62.00    3   \n",
       "3  Super built-up  Area       681      1521.0   3.0      1.0   95.00    3   \n",
       "4  Super built-up  Area       641      1200.0   2.0      1.0   51.00    2   \n",
       "\n",
       "   avg_2bhk_rent  dist_from_city  \n",
       "0   11500.000000            19.3  \n",
       "1   23014.768421            34.6  \n",
       "2   19750.000000            12.9  \n",
       "3   23014.768421            21.4  \n",
       "4   16375.000000            11.8  "
      ]
     },
     "execution_count": 47,
     "metadata": {},
     "output_type": "execute_result"
    }
   ],
   "source": [
    "main.head()"
   ]
  },
  {
   "cell_type": "code",
   "execution_count": 48,
   "id": "14677292",
   "metadata": {},
   "outputs": [],
   "source": [
    "from sklearn.preprocessing import OrdinalEncoder"
   ]
  },
  {
   "cell_type": "code",
   "execution_count": 49,
   "id": "eb7717da",
   "metadata": {},
   "outputs": [],
   "source": [
    "oenc = OrdinalEncoder(categories=[['Carpet  Area', 'Built-up  Area', 'Super built-up  Area', 'Plot  Area']])\n",
    "main['area_type'] = oenc.fit_transform(main['area_type'].values.reshape(-1,1))"
   ]
  },
  {
   "cell_type": "code",
   "execution_count": 50,
   "id": "4d6d974c",
   "metadata": {
    "scrolled": true
   },
   "outputs": [
    {
     "data": {
      "text/html": [
       "<div>\n",
       "<style scoped>\n",
       "    .dataframe tbody tr th:only-of-type {\n",
       "        vertical-align: middle;\n",
       "    }\n",
       "\n",
       "    .dataframe tbody tr th {\n",
       "        vertical-align: top;\n",
       "    }\n",
       "\n",
       "    .dataframe thead th {\n",
       "        text-align: right;\n",
       "    }\n",
       "</style>\n",
       "<table border=\"1\" class=\"dataframe\">\n",
       "  <thead>\n",
       "    <tr style=\"text-align: right;\">\n",
       "      <th></th>\n",
       "      <th>area_type</th>\n",
       "      <th>location</th>\n",
       "      <th>total_sqft</th>\n",
       "      <th>bath</th>\n",
       "      <th>balcony</th>\n",
       "      <th>price</th>\n",
       "      <th>BHK</th>\n",
       "      <th>avg_2bhk_rent</th>\n",
       "      <th>dist_from_city</th>\n",
       "    </tr>\n",
       "  </thead>\n",
       "  <tbody>\n",
       "    <tr>\n",
       "      <th>0</th>\n",
       "      <td>2.0</td>\n",
       "      <td>373</td>\n",
       "      <td>1056.0</td>\n",
       "      <td>2.0</td>\n",
       "      <td>1.0</td>\n",
       "      <td>39.07</td>\n",
       "      <td>2</td>\n",
       "      <td>11500.000000</td>\n",
       "      <td>19.3</td>\n",
       "    </tr>\n",
       "    <tr>\n",
       "      <th>1</th>\n",
       "      <td>3.0</td>\n",
       "      <td>281</td>\n",
       "      <td>2600.0</td>\n",
       "      <td>5.0</td>\n",
       "      <td>3.0</td>\n",
       "      <td>120.00</td>\n",
       "      <td>4</td>\n",
       "      <td>23014.768421</td>\n",
       "      <td>34.6</td>\n",
       "    </tr>\n",
       "    <tr>\n",
       "      <th>2</th>\n",
       "      <td>1.0</td>\n",
       "      <td>1053</td>\n",
       "      <td>1440.0</td>\n",
       "      <td>2.0</td>\n",
       "      <td>3.0</td>\n",
       "      <td>62.00</td>\n",
       "      <td>3</td>\n",
       "      <td>19750.000000</td>\n",
       "      <td>12.9</td>\n",
       "    </tr>\n",
       "    <tr>\n",
       "      <th>3</th>\n",
       "      <td>2.0</td>\n",
       "      <td>681</td>\n",
       "      <td>1521.0</td>\n",
       "      <td>3.0</td>\n",
       "      <td>1.0</td>\n",
       "      <td>95.00</td>\n",
       "      <td>3</td>\n",
       "      <td>23014.768421</td>\n",
       "      <td>21.4</td>\n",
       "    </tr>\n",
       "    <tr>\n",
       "      <th>4</th>\n",
       "      <td>2.0</td>\n",
       "      <td>641</td>\n",
       "      <td>1200.0</td>\n",
       "      <td>2.0</td>\n",
       "      <td>1.0</td>\n",
       "      <td>51.00</td>\n",
       "      <td>2</td>\n",
       "      <td>16375.000000</td>\n",
       "      <td>11.8</td>\n",
       "    </tr>\n",
       "  </tbody>\n",
       "</table>\n",
       "</div>"
      ],
      "text/plain": [
       "   area_type  location  total_sqft  bath  balcony   price  BHK  avg_2bhk_rent  \\\n",
       "0        2.0       373      1056.0   2.0      1.0   39.07    2   11500.000000   \n",
       "1        3.0       281      2600.0   5.0      3.0  120.00    4   23014.768421   \n",
       "2        1.0      1053      1440.0   2.0      3.0   62.00    3   19750.000000   \n",
       "3        2.0       681      1521.0   3.0      1.0   95.00    3   23014.768421   \n",
       "4        2.0       641      1200.0   2.0      1.0   51.00    2   16375.000000   \n",
       "\n",
       "   dist_from_city  \n",
       "0            19.3  \n",
       "1            34.6  \n",
       "2            12.9  \n",
       "3            21.4  \n",
       "4            11.8  "
      ]
     },
     "execution_count": 50,
     "metadata": {},
     "output_type": "execute_result"
    }
   ],
   "source": [
    "main.head()"
   ]
  },
  {
   "cell_type": "code",
   "execution_count": 51,
   "id": "dfa53dd2",
   "metadata": {},
   "outputs": [
    {
     "name": "stdout",
     "output_type": "stream",
     "text": [
      "<class 'pandas.core.frame.DataFrame'>\n",
      "Int64Index: 10149 entries, 0 to 10148\n",
      "Data columns (total 9 columns):\n",
      " #   Column          Non-Null Count  Dtype  \n",
      "---  ------          --------------  -----  \n",
      " 0   area_type       10149 non-null  float64\n",
      " 1   location        10149 non-null  int32  \n",
      " 2   total_sqft      10149 non-null  float64\n",
      " 3   bath            10149 non-null  float64\n",
      " 4   balcony         10149 non-null  float64\n",
      " 5   price           10149 non-null  float64\n",
      " 6   BHK             10149 non-null  int64  \n",
      " 7   avg_2bhk_rent   10149 non-null  float64\n",
      " 8   dist_from_city  10149 non-null  float64\n",
      "dtypes: float64(7), int32(1), int64(1)\n",
      "memory usage: 753.2 KB\n"
     ]
    }
   ],
   "source": [
    "main.info()"
   ]
  },
  {
   "cell_type": "code",
   "execution_count": 52,
   "id": "5e285e66",
   "metadata": {},
   "outputs": [
    {
     "data": {
      "image/png": "[encoded data removed]",
      "text/plain": [
       "<Figure size 3600x1440 with 2 Axes>"
      ]
     },
     "metadata": {
      "needs_background": "light"
     },
     "output_type": "display_data"
    }
   ],
   "source": [
    "sns.heatmap(main.corr(), annot=True)\n",
    "plt.show()"
   ]
  },
  {
   "cell_type": "markdown",
   "id": "d8859dfc",
   "metadata": {},
   "source": [
    "### Now we have converted all categorical columns to numeric columns. Let us build our Regression Model using sklearn"
   ]
  },
  {
   "cell_type": "markdown",
   "id": "b2a9f86e",
   "metadata": {},
   "source": [
    "### Before that let us split the data into independent and dependent variables."
   ]
  },
  {
   "cell_type": "code",
   "execution_count": 53,
   "id": "4efa30ae",
   "metadata": {},
   "outputs": [],
   "source": [
    "x = main.drop('price', axis = 1)\n",
    "y = main['price']"
   ]
  },
  {
   "cell_type": "code",
   "execution_count": 54,
   "id": "2945efee",
   "metadata": {},
   "outputs": [],
   "source": [
    "import xgboost as xg"
   ]
  },
  {
   "cell_type": "code",
   "execution_count": 55,
   "id": "c44d0419",
   "metadata": {},
   "outputs": [],
   "source": [
    "xgb_r = xg.XGBRegressor(seed = 1)"
   ]
  },
  {
   "cell_type": "code",
   "execution_count": 56,
   "id": "e64a5bd2",
   "metadata": {},
   "outputs": [],
   "source": [
    "xgb_r_model = xgb_r.fit(x, y)"
   ]
  },
  {
   "cell_type": "markdown",
   "id": "10a178ee",
   "metadata": {},
   "source": [
    "### Now let us import the test dataset and perform the same type of data cleaning that we performed over the train dataset and then predict the price for those entires in the test data"
   ]
  },
  {
   "cell_type": "code",
   "execution_count": 57,
   "id": "ad524c87",
   "metadata": {},
   "outputs": [
    {
     "data": {
      "text/html": [
       "<div>\n",
       "<style scoped>\n",
       "    .dataframe tbody tr th:only-of-type {\n",
       "        vertical-align: middle;\n",
       "    }\n",
       "\n",
       "    .dataframe tbody tr th {\n",
       "        vertical-align: top;\n",
       "    }\n",
       "\n",
       "    .dataframe thead th {\n",
       "        text-align: right;\n",
       "    }\n",
       "</style>\n",
       "<table border=\"1\" class=\"dataframe\">\n",
       "  <thead>\n",
       "    <tr style=\"text-align: right;\">\n",
       "      <th></th>\n",
       "      <th>ID</th>\n",
       "      <th>area_type</th>\n",
       "      <th>availability</th>\n",
       "      <th>location</th>\n",
       "      <th>size</th>\n",
       "      <th>society</th>\n",
       "      <th>total_sqft</th>\n",
       "      <th>bath</th>\n",
       "      <th>balcony</th>\n",
       "    </tr>\n",
       "  </thead>\n",
       "  <tbody>\n",
       "    <tr>\n",
       "      <th>0</th>\n",
       "      <td>0</td>\n",
       "      <td>Super built-up  Area</td>\n",
       "      <td>Ready To Move</td>\n",
       "      <td>Chamrajpet</td>\n",
       "      <td>2 BHK</td>\n",
       "      <td>NaN</td>\n",
       "      <td>650</td>\n",
       "      <td>1.0</td>\n",
       "      <td>1.0</td>\n",
       "    </tr>\n",
       "    <tr>\n",
       "      <th>1</th>\n",
       "      <td>1</td>\n",
       "      <td>Super built-up  Area</td>\n",
       "      <td>Ready To Move</td>\n",
       "      <td>7th Phase JP Nagar</td>\n",
       "      <td>3 BHK</td>\n",
       "      <td>SrncyRe</td>\n",
       "      <td>1370</td>\n",
       "      <td>2.0</td>\n",
       "      <td>1.0</td>\n",
       "    </tr>\n",
       "    <tr>\n",
       "      <th>2</th>\n",
       "      <td>2</td>\n",
       "      <td>Super built-up  Area</td>\n",
       "      <td>Ready To Move</td>\n",
       "      <td>Whitefield</td>\n",
       "      <td>3 BHK</td>\n",
       "      <td>AjhalNa</td>\n",
       "      <td>1725</td>\n",
       "      <td>3.0</td>\n",
       "      <td>2.0</td>\n",
       "    </tr>\n",
       "    <tr>\n",
       "      <th>3</th>\n",
       "      <td>3</td>\n",
       "      <td>Built-up  Area</td>\n",
       "      <td>Ready To Move</td>\n",
       "      <td>Jalahalli</td>\n",
       "      <td>2 BHK</td>\n",
       "      <td>NaN</td>\n",
       "      <td>1000</td>\n",
       "      <td>2.0</td>\n",
       "      <td>0.0</td>\n",
       "    </tr>\n",
       "    <tr>\n",
       "      <th>4</th>\n",
       "      <td>4</td>\n",
       "      <td>Plot  Area</td>\n",
       "      <td>Ready To Move</td>\n",
       "      <td>TC Palaya</td>\n",
       "      <td>1 Bedroom</td>\n",
       "      <td>NaN</td>\n",
       "      <td>1350</td>\n",
       "      <td>1.0</td>\n",
       "      <td>0.0</td>\n",
       "    </tr>\n",
       "  </tbody>\n",
       "</table>\n",
       "</div>"
      ],
      "text/plain": [
       "   ID             area_type   availability            location       size  \\\n",
       "0   0  Super built-up  Area  Ready To Move          Chamrajpet      2 BHK   \n",
       "1   1  Super built-up  Area  Ready To Move  7th Phase JP Nagar      3 BHK   \n",
       "2   2  Super built-up  Area  Ready To Move          Whitefield      3 BHK   \n",
       "3   3        Built-up  Area  Ready To Move           Jalahalli      2 BHK   \n",
       "4   4            Plot  Area  Ready To Move           TC Palaya  1 Bedroom   \n",
       "\n",
       "   society total_sqft  bath  balcony  \n",
       "0      NaN        650   1.0      1.0  \n",
       "1  SrncyRe       1370   2.0      1.0  \n",
       "2  AjhalNa       1725   3.0      2.0  \n",
       "3      NaN       1000   2.0      0.0  \n",
       "4      NaN       1350   1.0      0.0  "
      ]
     },
     "execution_count": 57,
     "metadata": {},
     "output_type": "execute_result"
    }
   ],
   "source": [
    "test = pd.read_csv('test.csv')\n",
    "test.head()"
   ]
  },
  {
   "cell_type": "markdown",
   "id": "ea059d18",
   "metadata": {},
   "source": [
    "### dropping ID, availability and society from the dataset"
   ]
  },
  {
   "cell_type": "code",
   "execution_count": 58,
   "id": "14855fab",
   "metadata": {},
   "outputs": [],
   "source": [
    "test = test.drop(['ID','availability','society'], axis = 1)"
   ]
  },
  {
   "cell_type": "markdown",
   "id": "7728b65c",
   "metadata": {},
   "source": [
    "### We cannot drop any rows because the submission file needs 2664 rows. Hence we will impute missing values."
   ]
  },
  {
   "cell_type": "markdown",
   "id": "66e38d1b",
   "metadata": {},
   "source": [
    "- We will deal with size later because we need to standardize the data format (we will add the mode value).\n",
    "- We will add mode value of bath for the missing values in bath\n",
    "- we will add mode value of balcony for the missing values in balcony"
   ]
  },
  {
   "cell_type": "markdown",
   "id": "c06940dc",
   "metadata": {},
   "source": [
    "### The mode values for the size/BHK, bath, balcony seen from the train data is as below"
   ]
  },
  {
   "cell_type": "code",
   "execution_count": 59,
   "id": "ced6dd9f",
   "metadata": {
    "scrolled": false
   },
   "outputs": [
    {
     "data": {
      "text/plain": [
       "0    2\n",
       "Name: BHK, dtype: int64"
      ]
     },
     "execution_count": 59,
     "metadata": {},
     "output_type": "execute_result"
    }
   ],
   "source": [
    "main['BHK'].mode()"
   ]
  },
  {
   "cell_type": "code",
   "execution_count": 60,
   "id": "882199ec",
   "metadata": {
    "scrolled": false
   },
   "outputs": [
    {
     "data": {
      "text/plain": [
       "0    2.0\n",
       "Name: balcony, dtype: float64"
      ]
     },
     "execution_count": 60,
     "metadata": {},
     "output_type": "execute_result"
    }
   ],
   "source": [
    "main['balcony'].mode()"
   ]
  },
  {
   "cell_type": "markdown",
   "id": "48a72ccf",
   "metadata": {},
   "source": [
    "### Since in reality we wont have the test data, let us impute the missing values in our test data set with the mode and mean values of the respective columns from the train dataset"
   ]
  },
  {
   "cell_type": "code",
   "execution_count": 61,
   "id": "acf84de4",
   "metadata": {},
   "outputs": [],
   "source": [
    "test['balcony'].replace(np.NaN, 2.0, inplace = True)"
   ]
  },
  {
   "cell_type": "code",
   "execution_count": 62,
   "id": "af0b2bb6",
   "metadata": {},
   "outputs": [
    {
     "data": {
      "text/plain": [
       "area_type     0\n",
       "location      0\n",
       "size          2\n",
       "total_sqft    0\n",
       "bath          8\n",
       "balcony       0\n",
       "dtype: int64"
      ]
     },
     "execution_count": 62,
     "metadata": {},
     "output_type": "execute_result"
    }
   ],
   "source": [
    "test.isnull().sum()"
   ]
  },
  {
   "cell_type": "markdown",
   "id": "53bbecde",
   "metadata": {},
   "source": [
    "### Lets perform all the data cleaning and feature engineering on the test set that we performed on our train set"
   ]
  },
  {
   "cell_type": "markdown",
   "id": "17f8091c",
   "metadata": {},
   "source": [
    "### To perform cleaning on size column the way we intend to do, we should not have missing values. We know that the mode of the size/BHK from the train dataset is 2. Let us impute the missing values in size of test data with this mode value from the train data and then go ahead and clean the size column similar to what was done on train data"
   ]
  },
  {
   "cell_type": "code",
   "execution_count": 63,
   "id": "400716a9",
   "metadata": {},
   "outputs": [],
   "source": [
    "test['size'].replace(np.NaN, '2 BHK', inplace = True)"
   ]
  },
  {
   "cell_type": "code",
   "execution_count": 64,
   "id": "beae3ced",
   "metadata": {},
   "outputs": [
    {
     "data": {
      "text/plain": [
       "area_type     0\n",
       "location      0\n",
       "size          0\n",
       "total_sqft    0\n",
       "bath          8\n",
       "balcony       0\n",
       "dtype: int64"
      ]
     },
     "execution_count": 64,
     "metadata": {},
     "output_type": "execute_result"
    }
   ],
   "source": [
    "test.isnull().sum()"
   ]
  },
  {
   "cell_type": "code",
   "execution_count": 65,
   "id": "0ea01913",
   "metadata": {},
   "outputs": [
    {
     "data": {
      "text/html": [
       "<div>\n",
       "<style scoped>\n",
       "    .dataframe tbody tr th:only-of-type {\n",
       "        vertical-align: middle;\n",
       "    }\n",
       "\n",
       "    .dataframe tbody tr th {\n",
       "        vertical-align: top;\n",
       "    }\n",
       "\n",
       "    .dataframe thead th {\n",
       "        text-align: right;\n",
       "    }\n",
       "</style>\n",
       "<table border=\"1\" class=\"dataframe\">\n",
       "  <thead>\n",
       "    <tr style=\"text-align: right;\">\n",
       "      <th></th>\n",
       "      <th>area_type</th>\n",
       "      <th>location</th>\n",
       "      <th>size</th>\n",
       "      <th>total_sqft</th>\n",
       "      <th>bath</th>\n",
       "      <th>balcony</th>\n",
       "    </tr>\n",
       "  </thead>\n",
       "  <tbody>\n",
       "    <tr>\n",
       "      <th>0</th>\n",
       "      <td>Super built-up  Area</td>\n",
       "      <td>Chamrajpet</td>\n",
       "      <td>2 BHK</td>\n",
       "      <td>650</td>\n",
       "      <td>1.0</td>\n",
       "      <td>1.0</td>\n",
       "    </tr>\n",
       "    <tr>\n",
       "      <th>1</th>\n",
       "      <td>Super built-up  Area</td>\n",
       "      <td>7th Phase JP Nagar</td>\n",
       "      <td>3 BHK</td>\n",
       "      <td>1370</td>\n",
       "      <td>2.0</td>\n",
       "      <td>1.0</td>\n",
       "    </tr>\n",
       "    <tr>\n",
       "      <th>2</th>\n",
       "      <td>Super built-up  Area</td>\n",
       "      <td>Whitefield</td>\n",
       "      <td>3 BHK</td>\n",
       "      <td>1725</td>\n",
       "      <td>3.0</td>\n",
       "      <td>2.0</td>\n",
       "    </tr>\n",
       "    <tr>\n",
       "      <th>3</th>\n",
       "      <td>Built-up  Area</td>\n",
       "      <td>Jalahalli</td>\n",
       "      <td>2 BHK</td>\n",
       "      <td>1000</td>\n",
       "      <td>2.0</td>\n",
       "      <td>0.0</td>\n",
       "    </tr>\n",
       "    <tr>\n",
       "      <th>4</th>\n",
       "      <td>Plot  Area</td>\n",
       "      <td>TC Palaya</td>\n",
       "      <td>1 Bedroom</td>\n",
       "      <td>1350</td>\n",
       "      <td>1.0</td>\n",
       "      <td>0.0</td>\n",
       "    </tr>\n",
       "  </tbody>\n",
       "</table>\n",
       "</div>"
      ],
      "text/plain": [
       "              area_type            location       size total_sqft  bath  \\\n",
       "0  Super built-up  Area          Chamrajpet      2 BHK        650   1.0   \n",
       "1  Super built-up  Area  7th Phase JP Nagar      3 BHK       1370   2.0   \n",
       "2  Super built-up  Area          Whitefield      3 BHK       1725   3.0   \n",
       "3        Built-up  Area           Jalahalli      2 BHK       1000   2.0   \n",
       "4            Plot  Area           TC Palaya  1 Bedroom       1350   1.0   \n",
       "\n",
       "   balcony  \n",
       "0      1.0  \n",
       "1      1.0  \n",
       "2      2.0  \n",
       "3      0.0  \n",
       "4      0.0  "
      ]
     },
     "execution_count": 65,
     "metadata": {},
     "output_type": "execute_result"
    }
   ],
   "source": [
    "test.head()"
   ]
  },
  {
   "cell_type": "code",
   "execution_count": 66,
   "id": "96157703",
   "metadata": {
    "scrolled": true
   },
   "outputs": [],
   "source": [
    "test['BHK'] = test['size'].apply(lambda x: int(x.split(' ')[0]))"
   ]
  },
  {
   "cell_type": "code",
   "execution_count": 67,
   "id": "499699a4",
   "metadata": {},
   "outputs": [],
   "source": [
    "test.total_sqft = test.total_sqft.apply(convert_range_to_avg_sqft)\n",
    "test.total_sqft = test.total_sqft.apply(convert_Sqmts_to_sqft)\n",
    "test.total_sqft = test.total_sqft.apply(convert_Sqyards_to_sqft)\n",
    "test.total_sqft = test.total_sqft.apply(convert_Cents_to_sqft)\n",
    "test.total_sqft = test.total_sqft.apply(convert_Acres_to_sqft)\n",
    "test.total_sqft = test.total_sqft.apply(convert_Guntha_to_sqft)\n",
    "test.total_sqft = test.total_sqft.apply(convert_Grounds_to_sqft)"
   ]
  },
  {
   "cell_type": "code",
   "execution_count": 68,
   "id": "856d4dee",
   "metadata": {},
   "outputs": [
    {
     "data": {
      "text/html": [
       "<div>\n",
       "<style scoped>\n",
       "    .dataframe tbody tr th:only-of-type {\n",
       "        vertical-align: middle;\n",
       "    }\n",
       "\n",
       "    .dataframe tbody tr th {\n",
       "        vertical-align: top;\n",
       "    }\n",
       "\n",
       "    .dataframe thead th {\n",
       "        text-align: right;\n",
       "    }\n",
       "</style>\n",
       "<table border=\"1\" class=\"dataframe\">\n",
       "  <thead>\n",
       "    <tr style=\"text-align: right;\">\n",
       "      <th></th>\n",
       "      <th>area_type</th>\n",
       "      <th>location</th>\n",
       "      <th>total_sqft</th>\n",
       "      <th>bath</th>\n",
       "      <th>balcony</th>\n",
       "      <th>BHK</th>\n",
       "    </tr>\n",
       "  </thead>\n",
       "  <tbody>\n",
       "    <tr>\n",
       "      <th>0</th>\n",
       "      <td>Super built-up  Area</td>\n",
       "      <td>Chamrajpet</td>\n",
       "      <td>650</td>\n",
       "      <td>1.0</td>\n",
       "      <td>1.0</td>\n",
       "      <td>2</td>\n",
       "    </tr>\n",
       "    <tr>\n",
       "      <th>1</th>\n",
       "      <td>Super built-up  Area</td>\n",
       "      <td>7th Phase JP Nagar</td>\n",
       "      <td>1370</td>\n",
       "      <td>2.0</td>\n",
       "      <td>1.0</td>\n",
       "      <td>3</td>\n",
       "    </tr>\n",
       "    <tr>\n",
       "      <th>2</th>\n",
       "      <td>Super built-up  Area</td>\n",
       "      <td>Whitefield</td>\n",
       "      <td>1725</td>\n",
       "      <td>3.0</td>\n",
       "      <td>2.0</td>\n",
       "      <td>3</td>\n",
       "    </tr>\n",
       "    <tr>\n",
       "      <th>3</th>\n",
       "      <td>Built-up  Area</td>\n",
       "      <td>Jalahalli</td>\n",
       "      <td>1000</td>\n",
       "      <td>2.0</td>\n",
       "      <td>0.0</td>\n",
       "      <td>2</td>\n",
       "    </tr>\n",
       "    <tr>\n",
       "      <th>4</th>\n",
       "      <td>Plot  Area</td>\n",
       "      <td>TC Palaya</td>\n",
       "      <td>1350</td>\n",
       "      <td>1.0</td>\n",
       "      <td>0.0</td>\n",
       "      <td>1</td>\n",
       "    </tr>\n",
       "  </tbody>\n",
       "</table>\n",
       "</div>"
      ],
      "text/plain": [
       "              area_type            location total_sqft  bath  balcony  BHK\n",
       "0  Super built-up  Area          Chamrajpet        650   1.0      1.0    2\n",
       "1  Super built-up  Area  7th Phase JP Nagar       1370   2.0      1.0    3\n",
       "2  Super built-up  Area          Whitefield       1725   3.0      2.0    3\n",
       "3        Built-up  Area           Jalahalli       1000   2.0      0.0    2\n",
       "4            Plot  Area           TC Palaya       1350   1.0      0.0    1"
      ]
     },
     "execution_count": 68,
     "metadata": {},
     "output_type": "execute_result"
    }
   ],
   "source": [
    "test = test.drop('size', axis = 1)\n",
    "test.head()"
   ]
  },
  {
   "cell_type": "markdown",
   "id": "dbc634c2",
   "metadata": {},
   "source": [
    "### Let us merge the rent and dist datasets with our test data"
   ]
  },
  {
   "cell_type": "code",
   "execution_count": 69,
   "id": "f3e92e48",
   "metadata": {},
   "outputs": [
    {
     "data": {
      "text/html": [
       "<div>\n",
       "<style scoped>\n",
       "    .dataframe tbody tr th:only-of-type {\n",
       "        vertical-align: middle;\n",
       "    }\n",
       "\n",
       "    .dataframe tbody tr th {\n",
       "        vertical-align: top;\n",
       "    }\n",
       "\n",
       "    .dataframe thead th {\n",
       "        text-align: right;\n",
       "    }\n",
       "</style>\n",
       "<table border=\"1\" class=\"dataframe\">\n",
       "  <thead>\n",
       "    <tr style=\"text-align: right;\">\n",
       "      <th></th>\n",
       "      <th>area_type</th>\n",
       "      <th>location</th>\n",
       "      <th>total_sqft</th>\n",
       "      <th>bath</th>\n",
       "      <th>balcony</th>\n",
       "      <th>BHK</th>\n",
       "      <th>avg_2bhk_rent</th>\n",
       "    </tr>\n",
       "  </thead>\n",
       "  <tbody>\n",
       "    <tr>\n",
       "      <th>0</th>\n",
       "      <td>Super built-up  Area</td>\n",
       "      <td>Chamrajpet</td>\n",
       "      <td>650</td>\n",
       "      <td>1.0</td>\n",
       "      <td>1.0</td>\n",
       "      <td>2</td>\n",
       "      <td>15875.0</td>\n",
       "    </tr>\n",
       "    <tr>\n",
       "      <th>1</th>\n",
       "      <td>Super built-up  Area</td>\n",
       "      <td>7th Phase JP Nagar</td>\n",
       "      <td>1370</td>\n",
       "      <td>2.0</td>\n",
       "      <td>1.0</td>\n",
       "      <td>3</td>\n",
       "      <td>NaN</td>\n",
       "    </tr>\n",
       "    <tr>\n",
       "      <th>2</th>\n",
       "      <td>Super built-up  Area</td>\n",
       "      <td>Whitefield</td>\n",
       "      <td>1725</td>\n",
       "      <td>3.0</td>\n",
       "      <td>2.0</td>\n",
       "      <td>3</td>\n",
       "      <td>14981.0</td>\n",
       "    </tr>\n",
       "    <tr>\n",
       "      <th>3</th>\n",
       "      <td>Built-up  Area</td>\n",
       "      <td>Jalahalli</td>\n",
       "      <td>1000</td>\n",
       "      <td>2.0</td>\n",
       "      <td>0.0</td>\n",
       "      <td>2</td>\n",
       "      <td>11000.0</td>\n",
       "    </tr>\n",
       "    <tr>\n",
       "      <th>4</th>\n",
       "      <td>Plot  Area</td>\n",
       "      <td>TC Palaya</td>\n",
       "      <td>1350</td>\n",
       "      <td>1.0</td>\n",
       "      <td>0.0</td>\n",
       "      <td>1</td>\n",
       "      <td>NaN</td>\n",
       "    </tr>\n",
       "  </tbody>\n",
       "</table>\n",
       "</div>"
      ],
      "text/plain": [
       "              area_type            location total_sqft  bath  balcony  BHK  \\\n",
       "0  Super built-up  Area          Chamrajpet        650   1.0      1.0    2   \n",
       "1  Super built-up  Area  7th Phase JP Nagar       1370   2.0      1.0    3   \n",
       "2  Super built-up  Area          Whitefield       1725   3.0      2.0    3   \n",
       "3        Built-up  Area           Jalahalli       1000   2.0      0.0    2   \n",
       "4            Plot  Area           TC Palaya       1350   1.0      0.0    1   \n",
       "\n",
       "   avg_2bhk_rent  \n",
       "0        15875.0  \n",
       "1            NaN  \n",
       "2        14981.0  \n",
       "3        11000.0  \n",
       "4            NaN  "
      ]
     },
     "execution_count": 69,
     "metadata": {},
     "output_type": "execute_result"
    }
   ],
   "source": [
    "test = pd.merge(test, rent, 'left', 'location')\n",
    "test.head()"
   ]
  },
  {
   "cell_type": "code",
   "execution_count": 70,
   "id": "20257d29",
   "metadata": {},
   "outputs": [
    {
     "data": {
      "text/html": [
       "<div>\n",
       "<style scoped>\n",
       "    .dataframe tbody tr th:only-of-type {\n",
       "        vertical-align: middle;\n",
       "    }\n",
       "\n",
       "    .dataframe tbody tr th {\n",
       "        vertical-align: top;\n",
       "    }\n",
       "\n",
       "    .dataframe thead th {\n",
       "        text-align: right;\n",
       "    }\n",
       "</style>\n",
       "<table border=\"1\" class=\"dataframe\">\n",
       "  <thead>\n",
       "    <tr style=\"text-align: right;\">\n",
       "      <th></th>\n",
       "      <th>area_type</th>\n",
       "      <th>location</th>\n",
       "      <th>total_sqft</th>\n",
       "      <th>bath</th>\n",
       "      <th>balcony</th>\n",
       "      <th>BHK</th>\n",
       "      <th>avg_2bhk_rent</th>\n",
       "      <th>dist_from_city</th>\n",
       "    </tr>\n",
       "  </thead>\n",
       "  <tbody>\n",
       "    <tr>\n",
       "      <th>0</th>\n",
       "      <td>Super built-up  Area</td>\n",
       "      <td>Chamrajpet</td>\n",
       "      <td>650</td>\n",
       "      <td>1.0</td>\n",
       "      <td>1.0</td>\n",
       "      <td>2</td>\n",
       "      <td>15875.0</td>\n",
       "      <td>6.7</td>\n",
       "    </tr>\n",
       "    <tr>\n",
       "      <th>1</th>\n",
       "      <td>Super built-up  Area</td>\n",
       "      <td>7th Phase JP Nagar</td>\n",
       "      <td>1370</td>\n",
       "      <td>2.0</td>\n",
       "      <td>1.0</td>\n",
       "      <td>3</td>\n",
       "      <td>NaN</td>\n",
       "      <td>11.0</td>\n",
       "    </tr>\n",
       "    <tr>\n",
       "      <th>2</th>\n",
       "      <td>Super built-up  Area</td>\n",
       "      <td>Whitefield</td>\n",
       "      <td>1725</td>\n",
       "      <td>3.0</td>\n",
       "      <td>2.0</td>\n",
       "      <td>3</td>\n",
       "      <td>14981.0</td>\n",
       "      <td>17.3</td>\n",
       "    </tr>\n",
       "    <tr>\n",
       "      <th>3</th>\n",
       "      <td>Built-up  Area</td>\n",
       "      <td>Jalahalli</td>\n",
       "      <td>1000</td>\n",
       "      <td>2.0</td>\n",
       "      <td>0.0</td>\n",
       "      <td>2</td>\n",
       "      <td>11000.0</td>\n",
       "      <td>16.6</td>\n",
       "    </tr>\n",
       "    <tr>\n",
       "      <th>4</th>\n",
       "      <td>Plot  Area</td>\n",
       "      <td>TC Palaya</td>\n",
       "      <td>1350</td>\n",
       "      <td>1.0</td>\n",
       "      <td>0.0</td>\n",
       "      <td>1</td>\n",
       "      <td>NaN</td>\n",
       "      <td>12.2</td>\n",
       "    </tr>\n",
       "  </tbody>\n",
       "</table>\n",
       "</div>"
      ],
      "text/plain": [
       "              area_type            location total_sqft  bath  balcony  BHK  \\\n",
       "0  Super built-up  Area          Chamrajpet        650   1.0      1.0    2   \n",
       "1  Super built-up  Area  7th Phase JP Nagar       1370   2.0      1.0    3   \n",
       "2  Super built-up  Area          Whitefield       1725   3.0      2.0    3   \n",
       "3        Built-up  Area           Jalahalli       1000   2.0      0.0    2   \n",
       "4            Plot  Area           TC Palaya       1350   1.0      0.0    1   \n",
       "\n",
       "   avg_2bhk_rent  dist_from_city  \n",
       "0        15875.0             6.7  \n",
       "1            NaN            11.0  \n",
       "2        14981.0            17.3  \n",
       "3        11000.0            16.6  \n",
       "4            NaN            12.2  "
      ]
     },
     "execution_count": 70,
     "metadata": {},
     "output_type": "execute_result"
    }
   ],
   "source": [
    "test = pd.merge(test, dist, 'left', 'location')\n",
    "test.head()"
   ]
  },
  {
   "cell_type": "code",
   "execution_count": 71,
   "id": "a6f4615c",
   "metadata": {},
   "outputs": [
    {
     "data": {
      "text/plain": [
       "area_type            0\n",
       "location             0\n",
       "total_sqft           0\n",
       "bath                 8\n",
       "balcony              0\n",
       "BHK                  0\n",
       "avg_2bhk_rent     1752\n",
       "dist_from_city     274\n",
       "dtype: int64"
      ]
     },
     "execution_count": 71,
     "metadata": {},
     "output_type": "execute_result"
    }
   ],
   "source": [
    "test.isnull().sum()"
   ]
  },
  {
   "cell_type": "markdown",
   "id": "3f9cc802",
   "metadata": {},
   "source": [
    "### Let us impute the missing values in rent and dist columns with our earlier logic used in main dataset."
   ]
  },
  {
   "cell_type": "code",
   "execution_count": 72,
   "id": "a7aeaadf",
   "metadata": {},
   "outputs": [],
   "source": [
    "test.dist_from_city.fillna(test.dist_from_city.mode()[0], inplace=True)"
   ]
  },
  {
   "cell_type": "code",
   "execution_count": 73,
   "id": "981d850b",
   "metadata": {},
   "outputs": [],
   "source": [
    "test.avg_2bhk_rent.fillna(test.avg_2bhk_rent.mean() * 1.5, inplace=True)"
   ]
  },
  {
   "cell_type": "code",
   "execution_count": 74,
   "id": "b9e43e32",
   "metadata": {},
   "outputs": [
    {
     "data": {
      "text/plain": [
       "area_type         0\n",
       "location          0\n",
       "total_sqft        0\n",
       "bath              8\n",
       "balcony           0\n",
       "BHK               0\n",
       "avg_2bhk_rent     0\n",
       "dist_from_city    0\n",
       "dtype: int64"
      ]
     },
     "execution_count": 74,
     "metadata": {},
     "output_type": "execute_result"
    }
   ],
   "source": [
    "test.isnull().sum()"
   ]
  },
  {
   "cell_type": "code",
   "execution_count": 75,
   "id": "f66c1edf",
   "metadata": {},
   "outputs": [
    {
     "data": {
      "text/html": [
       "<div>\n",
       "<style scoped>\n",
       "    .dataframe tbody tr th:only-of-type {\n",
       "        vertical-align: middle;\n",
       "    }\n",
       "\n",
       "    .dataframe tbody tr th {\n",
       "        vertical-align: top;\n",
       "    }\n",
       "\n",
       "    .dataframe thead th {\n",
       "        text-align: right;\n",
       "    }\n",
       "</style>\n",
       "<table border=\"1\" class=\"dataframe\">\n",
       "  <thead>\n",
       "    <tr style=\"text-align: right;\">\n",
       "      <th></th>\n",
       "      <th>area_type</th>\n",
       "      <th>location</th>\n",
       "      <th>total_sqft</th>\n",
       "      <th>bath</th>\n",
       "      <th>balcony</th>\n",
       "      <th>BHK</th>\n",
       "      <th>avg_2bhk_rent</th>\n",
       "      <th>dist_from_city</th>\n",
       "    </tr>\n",
       "  </thead>\n",
       "  <tbody>\n",
       "    <tr>\n",
       "      <th>70</th>\n",
       "      <td>Super built-up  Area</td>\n",
       "      <td>Sarjapur  Road</td>\n",
       "      <td>1773.5</td>\n",
       "      <td>NaN</td>\n",
       "      <td>2.0</td>\n",
       "      <td>3</td>\n",
       "      <td>23980.013158</td>\n",
       "      <td>17.2</td>\n",
       "    </tr>\n",
       "    <tr>\n",
       "      <th>363</th>\n",
       "      <td>Plot  Area</td>\n",
       "      <td>Yelahanka</td>\n",
       "      <td>1500.0</td>\n",
       "      <td>NaN</td>\n",
       "      <td>2.0</td>\n",
       "      <td>2</td>\n",
       "      <td>8500.000000</td>\n",
       "      <td>20.8</td>\n",
       "    </tr>\n",
       "    <tr>\n",
       "      <th>641</th>\n",
       "      <td>Super built-up  Area</td>\n",
       "      <td>Hennur</td>\n",
       "      <td>3517.0</td>\n",
       "      <td>NaN</td>\n",
       "      <td>2.0</td>\n",
       "      <td>4</td>\n",
       "      <td>17529.000000</td>\n",
       "      <td>10.0</td>\n",
       "    </tr>\n",
       "    <tr>\n",
       "      <th>840</th>\n",
       "      <td>Super built-up  Area</td>\n",
       "      <td>Kanakpura Road</td>\n",
       "      <td>525</td>\n",
       "      <td>NaN</td>\n",
       "      <td>2.0</td>\n",
       "      <td>1</td>\n",
       "      <td>23980.013158</td>\n",
       "      <td>26.5</td>\n",
       "    </tr>\n",
       "    <tr>\n",
       "      <th>913</th>\n",
       "      <td>Plot  Area</td>\n",
       "      <td>Hosur Road</td>\n",
       "      <td>1350</td>\n",
       "      <td>NaN</td>\n",
       "      <td>2.0</td>\n",
       "      <td>2</td>\n",
       "      <td>23980.013158</td>\n",
       "      <td>19.0</td>\n",
       "    </tr>\n",
       "    <tr>\n",
       "      <th>2112</th>\n",
       "      <td>Built-up  Area</td>\n",
       "      <td>Bettahalsoor</td>\n",
       "      <td>3210</td>\n",
       "      <td>NaN</td>\n",
       "      <td>2.0</td>\n",
       "      <td>5</td>\n",
       "      <td>23980.013158</td>\n",
       "      <td>17.2</td>\n",
       "    </tr>\n",
       "    <tr>\n",
       "      <th>2205</th>\n",
       "      <td>Super built-up  Area</td>\n",
       "      <td>KR Puram</td>\n",
       "      <td>2283.0</td>\n",
       "      <td>NaN</td>\n",
       "      <td>2.0</td>\n",
       "      <td>4</td>\n",
       "      <td>23980.013158</td>\n",
       "      <td>11.9</td>\n",
       "    </tr>\n",
       "    <tr>\n",
       "      <th>2584</th>\n",
       "      <td>Super built-up  Area</td>\n",
       "      <td>Devanahalli</td>\n",
       "      <td>1075.0</td>\n",
       "      <td>NaN</td>\n",
       "      <td>2.0</td>\n",
       "      <td>1</td>\n",
       "      <td>17302.000000</td>\n",
       "      <td>38.7</td>\n",
       "    </tr>\n",
       "  </tbody>\n",
       "</table>\n",
       "</div>"
      ],
      "text/plain": [
       "                 area_type        location total_sqft  bath  balcony  BHK  \\\n",
       "70    Super built-up  Area  Sarjapur  Road     1773.5   NaN      2.0    3   \n",
       "363             Plot  Area       Yelahanka     1500.0   NaN      2.0    2   \n",
       "641   Super built-up  Area          Hennur     3517.0   NaN      2.0    4   \n",
       "840   Super built-up  Area  Kanakpura Road        525   NaN      2.0    1   \n",
       "913             Plot  Area      Hosur Road       1350   NaN      2.0    2   \n",
       "2112        Built-up  Area    Bettahalsoor       3210   NaN      2.0    5   \n",
       "2205  Super built-up  Area        KR Puram     2283.0   NaN      2.0    4   \n",
       "2584  Super built-up  Area     Devanahalli     1075.0   NaN      2.0    1   \n",
       "\n",
       "      avg_2bhk_rent  dist_from_city  \n",
       "70     23980.013158            17.2  \n",
       "363     8500.000000            20.8  \n",
       "641    17529.000000            10.0  \n",
       "840    23980.013158            26.5  \n",
       "913    23980.013158            19.0  \n",
       "2112   23980.013158            17.2  \n",
       "2205   23980.013158            11.9  \n",
       "2584   17302.000000            38.7  "
      ]
     },
     "execution_count": 75,
     "metadata": {},
     "output_type": "execute_result"
    }
   ],
   "source": [
    "test[test.bath.isnull()]"
   ]
  },
  {
   "cell_type": "markdown",
   "id": "eff3dfaa",
   "metadata": {},
   "source": [
    "### The missing values in bath column is for houses with bhk mode of 1, 2 and 4. Let us impute these missing values for bath with logic of every house has 1 exta bath to the number of bhk. Here we will impute the missing values with the mean of this value considering the mode of the missing value rows bhk. So the mean that we are going to impute will be (4+3+5+2+3+6+5+2)/8"
   ]
  },
  {
   "cell_type": "code",
   "execution_count": 76,
   "id": "42543761",
   "metadata": {},
   "outputs": [
    {
     "data": {
      "text/plain": [
       "3.75"
      ]
     },
     "execution_count": 76,
     "metadata": {},
     "output_type": "execute_result"
    }
   ],
   "source": [
    "(4+3+5+2+3+6+5+2)/8"
   ]
  },
  {
   "cell_type": "markdown",
   "id": "31909e14",
   "metadata": {},
   "source": [
    "### Let us floor the above value and impute the missing values for bath as 3"
   ]
  },
  {
   "cell_type": "code",
   "execution_count": 77,
   "id": "287916d4",
   "metadata": {},
   "outputs": [],
   "source": [
    "test.bath.fillna(3, inplace=True)"
   ]
  },
  {
   "cell_type": "code",
   "execution_count": 78,
   "id": "2d5f4a06",
   "metadata": {},
   "outputs": [
    {
     "data": {
      "text/plain": [
       "area_type         0\n",
       "location          0\n",
       "total_sqft        0\n",
       "bath              0\n",
       "balcony           0\n",
       "BHK               0\n",
       "avg_2bhk_rent     0\n",
       "dist_from_city    0\n",
       "dtype: int64"
      ]
     },
     "execution_count": 78,
     "metadata": {},
     "output_type": "execute_result"
    }
   ],
   "source": [
    "test.isnull().sum()"
   ]
  },
  {
   "cell_type": "markdown",
   "id": "109bf711",
   "metadata": {},
   "source": [
    "### Let us now Label encode the location column for the same reason as stated while encoding the train dataset"
   ]
  },
  {
   "cell_type": "code",
   "execution_count": 79,
   "id": "259eb32a",
   "metadata": {},
   "outputs": [],
   "source": [
    "test['location'] = test['location'].map(lambda x: '<unknown>' if x not in lenc.classes_ else x)\n",
    "lenc.classes_ = np.append(lenc.classes_, '<unknown>')\n",
    "test['location'] = lenc.transform(test['location'])"
   ]
  },
  {
   "cell_type": "code",
   "execution_count": 80,
   "id": "e56cbc0b",
   "metadata": {},
   "outputs": [
    {
     "data": {
      "text/html": [
       "<div>\n",
       "<style scoped>\n",
       "    .dataframe tbody tr th:only-of-type {\n",
       "        vertical-align: middle;\n",
       "    }\n",
       "\n",
       "    .dataframe tbody tr th {\n",
       "        vertical-align: top;\n",
       "    }\n",
       "\n",
       "    .dataframe thead th {\n",
       "        text-align: right;\n",
       "    }\n",
       "</style>\n",
       "<table border=\"1\" class=\"dataframe\">\n",
       "  <thead>\n",
       "    <tr style=\"text-align: right;\">\n",
       "      <th></th>\n",
       "      <th>area_type</th>\n",
       "      <th>location</th>\n",
       "      <th>total_sqft</th>\n",
       "      <th>bath</th>\n",
       "      <th>balcony</th>\n",
       "      <th>BHK</th>\n",
       "      <th>avg_2bhk_rent</th>\n",
       "      <th>dist_from_city</th>\n",
       "    </tr>\n",
       "  </thead>\n",
       "  <tbody>\n",
       "    <tr>\n",
       "      <th>0</th>\n",
       "      <td>Super built-up  Area</td>\n",
       "      <td>268</td>\n",
       "      <td>650</td>\n",
       "      <td>1.0</td>\n",
       "      <td>1.0</td>\n",
       "      <td>2</td>\n",
       "      <td>15875.000000</td>\n",
       "      <td>6.7</td>\n",
       "    </tr>\n",
       "    <tr>\n",
       "      <th>1</th>\n",
       "      <td>Super built-up  Area</td>\n",
       "      <td>65</td>\n",
       "      <td>1370</td>\n",
       "      <td>2.0</td>\n",
       "      <td>1.0</td>\n",
       "      <td>3</td>\n",
       "      <td>23980.013158</td>\n",
       "      <td>11.0</td>\n",
       "    </tr>\n",
       "    <tr>\n",
       "      <th>2</th>\n",
       "      <td>Super built-up  Area</td>\n",
       "      <td>1121</td>\n",
       "      <td>1725</td>\n",
       "      <td>3.0</td>\n",
       "      <td>2.0</td>\n",
       "      <td>3</td>\n",
       "      <td>14981.000000</td>\n",
       "      <td>17.3</td>\n",
       "    </tr>\n",
       "    <tr>\n",
       "      <th>3</th>\n",
       "      <td>Built-up  Area</td>\n",
       "      <td>529</td>\n",
       "      <td>1000</td>\n",
       "      <td>2.0</td>\n",
       "      <td>0.0</td>\n",
       "      <td>2</td>\n",
       "      <td>11000.000000</td>\n",
       "      <td>16.6</td>\n",
       "    </tr>\n",
       "    <tr>\n",
       "      <th>4</th>\n",
       "      <td>Plot  Area</td>\n",
       "      <td>1017</td>\n",
       "      <td>1350</td>\n",
       "      <td>1.0</td>\n",
       "      <td>0.0</td>\n",
       "      <td>1</td>\n",
       "      <td>23980.013158</td>\n",
       "      <td>12.2</td>\n",
       "    </tr>\n",
       "  </tbody>\n",
       "</table>\n",
       "</div>"
      ],
      "text/plain": [
       "              area_type  location total_sqft  bath  balcony  BHK  \\\n",
       "0  Super built-up  Area       268        650   1.0      1.0    2   \n",
       "1  Super built-up  Area        65       1370   2.0      1.0    3   \n",
       "2  Super built-up  Area      1121       1725   3.0      2.0    3   \n",
       "3        Built-up  Area       529       1000   2.0      0.0    2   \n",
       "4            Plot  Area      1017       1350   1.0      0.0    1   \n",
       "\n",
       "   avg_2bhk_rent  dist_from_city  \n",
       "0   15875.000000             6.7  \n",
       "1   23980.013158            11.0  \n",
       "2   14981.000000            17.3  \n",
       "3   11000.000000            16.6  \n",
       "4   23980.013158            12.2  "
      ]
     },
     "execution_count": 80,
     "metadata": {},
     "output_type": "execute_result"
    }
   ],
   "source": [
    "test.head()"
   ]
  },
  {
   "cell_type": "code",
   "execution_count": 81,
   "id": "e32df3b2",
   "metadata": {},
   "outputs": [],
   "source": [
    "test['area_type'] = oenc.transform(test['area_type'].values.reshape(-1,1))"
   ]
  },
  {
   "cell_type": "code",
   "execution_count": 82,
   "id": "9baf40fd",
   "metadata": {},
   "outputs": [
    {
     "data": {
      "text/html": [
       "<div>\n",
       "<style scoped>\n",
       "    .dataframe tbody tr th:only-of-type {\n",
       "        vertical-align: middle;\n",
       "    }\n",
       "\n",
       "    .dataframe tbody tr th {\n",
       "        vertical-align: top;\n",
       "    }\n",
       "\n",
       "    .dataframe thead th {\n",
       "        text-align: right;\n",
       "    }\n",
       "</style>\n",
       "<table border=\"1\" class=\"dataframe\">\n",
       "  <thead>\n",
       "    <tr style=\"text-align: right;\">\n",
       "      <th></th>\n",
       "      <th>area_type</th>\n",
       "      <th>location</th>\n",
       "      <th>total_sqft</th>\n",
       "      <th>bath</th>\n",
       "      <th>balcony</th>\n",
       "      <th>BHK</th>\n",
       "      <th>avg_2bhk_rent</th>\n",
       "      <th>dist_from_city</th>\n",
       "    </tr>\n",
       "  </thead>\n",
       "  <tbody>\n",
       "    <tr>\n",
       "      <th>0</th>\n",
       "      <td>2.0</td>\n",
       "      <td>268</td>\n",
       "      <td>650</td>\n",
       "      <td>1.0</td>\n",
       "      <td>1.0</td>\n",
       "      <td>2</td>\n",
       "      <td>15875.000000</td>\n",
       "      <td>6.7</td>\n",
       "    </tr>\n",
       "    <tr>\n",
       "      <th>1</th>\n",
       "      <td>2.0</td>\n",
       "      <td>65</td>\n",
       "      <td>1370</td>\n",
       "      <td>2.0</td>\n",
       "      <td>1.0</td>\n",
       "      <td>3</td>\n",
       "      <td>23980.013158</td>\n",
       "      <td>11.0</td>\n",
       "    </tr>\n",
       "    <tr>\n",
       "      <th>2</th>\n",
       "      <td>2.0</td>\n",
       "      <td>1121</td>\n",
       "      <td>1725</td>\n",
       "      <td>3.0</td>\n",
       "      <td>2.0</td>\n",
       "      <td>3</td>\n",
       "      <td>14981.000000</td>\n",
       "      <td>17.3</td>\n",
       "    </tr>\n",
       "    <tr>\n",
       "      <th>3</th>\n",
       "      <td>1.0</td>\n",
       "      <td>529</td>\n",
       "      <td>1000</td>\n",
       "      <td>2.0</td>\n",
       "      <td>0.0</td>\n",
       "      <td>2</td>\n",
       "      <td>11000.000000</td>\n",
       "      <td>16.6</td>\n",
       "    </tr>\n",
       "    <tr>\n",
       "      <th>4</th>\n",
       "      <td>3.0</td>\n",
       "      <td>1017</td>\n",
       "      <td>1350</td>\n",
       "      <td>1.0</td>\n",
       "      <td>0.0</td>\n",
       "      <td>1</td>\n",
       "      <td>23980.013158</td>\n",
       "      <td>12.2</td>\n",
       "    </tr>\n",
       "  </tbody>\n",
       "</table>\n",
       "</div>"
      ],
      "text/plain": [
       "   area_type  location total_sqft  bath  balcony  BHK  avg_2bhk_rent  \\\n",
       "0        2.0       268        650   1.0      1.0    2   15875.000000   \n",
       "1        2.0        65       1370   2.0      1.0    3   23980.013158   \n",
       "2        2.0      1121       1725   3.0      2.0    3   14981.000000   \n",
       "3        1.0       529       1000   2.0      0.0    2   11000.000000   \n",
       "4        3.0      1017       1350   1.0      0.0    1   23980.013158   \n",
       "\n",
       "   dist_from_city  \n",
       "0             6.7  \n",
       "1            11.0  \n",
       "2            17.3  \n",
       "3            16.6  \n",
       "4            12.2  "
      ]
     },
     "execution_count": 82,
     "metadata": {},
     "output_type": "execute_result"
    }
   ],
   "source": [
    "test.head()"
   ]
  },
  {
   "cell_type": "code",
   "execution_count": 83,
   "id": "5beb2e85",
   "metadata": {},
   "outputs": [
    {
     "name": "stdout",
     "output_type": "stream",
     "text": [
      "<class 'pandas.core.frame.DataFrame'>\n",
      "Int64Index: 2664 entries, 0 to 2663\n",
      "Data columns (total 8 columns):\n",
      " #   Column          Non-Null Count  Dtype  \n",
      "---  ------          --------------  -----  \n",
      " 0   area_type       2664 non-null   float64\n",
      " 1   location        2664 non-null   int32  \n",
      " 2   total_sqft      2664 non-null   object \n",
      " 3   bath            2664 non-null   float64\n",
      " 4   balcony         2664 non-null   float64\n",
      " 5   BHK             2664 non-null   int64  \n",
      " 6   avg_2bhk_rent   2664 non-null   float64\n",
      " 7   dist_from_city  2664 non-null   float64\n",
      "dtypes: float64(5), int32(1), int64(1), object(1)\n",
      "memory usage: 176.9+ KB\n"
     ]
    }
   ],
   "source": [
    "test.info()"
   ]
  },
  {
   "cell_type": "markdown",
   "id": "c9ddda5b",
   "metadata": {},
   "source": [
    "### Convert total_sqft from object to float"
   ]
  },
  {
   "cell_type": "code",
   "execution_count": 84,
   "id": "1847afce",
   "metadata": {},
   "outputs": [],
   "source": [
    "test['total_sqft'] = test['total_sqft'].astype(float)"
   ]
  },
  {
   "cell_type": "code",
   "execution_count": 85,
   "id": "4612902c",
   "metadata": {
    "scrolled": true
   },
   "outputs": [
    {
     "data": {
      "text/html": [
       "<div>\n",
       "<style scoped>\n",
       "    .dataframe tbody tr th:only-of-type {\n",
       "        vertical-align: middle;\n",
       "    }\n",
       "\n",
       "    .dataframe tbody tr th {\n",
       "        vertical-align: top;\n",
       "    }\n",
       "\n",
       "    .dataframe thead th {\n",
       "        text-align: right;\n",
       "    }\n",
       "</style>\n",
       "<table border=\"1\" class=\"dataframe\">\n",
       "  <thead>\n",
       "    <tr style=\"text-align: right;\">\n",
       "      <th></th>\n",
       "      <th>area_type</th>\n",
       "      <th>location</th>\n",
       "      <th>total_sqft</th>\n",
       "      <th>bath</th>\n",
       "      <th>balcony</th>\n",
       "      <th>BHK</th>\n",
       "      <th>avg_2bhk_rent</th>\n",
       "      <th>dist_from_city</th>\n",
       "    </tr>\n",
       "  </thead>\n",
       "  <tbody>\n",
       "    <tr>\n",
       "      <th>0</th>\n",
       "      <td>2.0</td>\n",
       "      <td>268</td>\n",
       "      <td>650.0</td>\n",
       "      <td>1.0</td>\n",
       "      <td>1.0</td>\n",
       "      <td>2</td>\n",
       "      <td>15875.000000</td>\n",
       "      <td>6.7</td>\n",
       "    </tr>\n",
       "    <tr>\n",
       "      <th>1</th>\n",
       "      <td>2.0</td>\n",
       "      <td>65</td>\n",
       "      <td>1370.0</td>\n",
       "      <td>2.0</td>\n",
       "      <td>1.0</td>\n",
       "      <td>3</td>\n",
       "      <td>23980.013158</td>\n",
       "      <td>11.0</td>\n",
       "    </tr>\n",
       "    <tr>\n",
       "      <th>2</th>\n",
       "      <td>2.0</td>\n",
       "      <td>1121</td>\n",
       "      <td>1725.0</td>\n",
       "      <td>3.0</td>\n",
       "      <td>2.0</td>\n",
       "      <td>3</td>\n",
       "      <td>14981.000000</td>\n",
       "      <td>17.3</td>\n",
       "    </tr>\n",
       "    <tr>\n",
       "      <th>3</th>\n",
       "      <td>1.0</td>\n",
       "      <td>529</td>\n",
       "      <td>1000.0</td>\n",
       "      <td>2.0</td>\n",
       "      <td>0.0</td>\n",
       "      <td>2</td>\n",
       "      <td>11000.000000</td>\n",
       "      <td>16.6</td>\n",
       "    </tr>\n",
       "    <tr>\n",
       "      <th>4</th>\n",
       "      <td>3.0</td>\n",
       "      <td>1017</td>\n",
       "      <td>1350.0</td>\n",
       "      <td>1.0</td>\n",
       "      <td>0.0</td>\n",
       "      <td>1</td>\n",
       "      <td>23980.013158</td>\n",
       "      <td>12.2</td>\n",
       "    </tr>\n",
       "  </tbody>\n",
       "</table>\n",
       "</div>"
      ],
      "text/plain": [
       "   area_type  location  total_sqft  bath  balcony  BHK  avg_2bhk_rent  \\\n",
       "0        2.0       268       650.0   1.0      1.0    2   15875.000000   \n",
       "1        2.0        65      1370.0   2.0      1.0    3   23980.013158   \n",
       "2        2.0      1121      1725.0   3.0      2.0    3   14981.000000   \n",
       "3        1.0       529      1000.0   2.0      0.0    2   11000.000000   \n",
       "4        3.0      1017      1350.0   1.0      0.0    1   23980.013158   \n",
       "\n",
       "   dist_from_city  \n",
       "0             6.7  \n",
       "1            11.0  \n",
       "2            17.3  \n",
       "3            16.6  \n",
       "4            12.2  "
      ]
     },
     "execution_count": 85,
     "metadata": {},
     "output_type": "execute_result"
    }
   ],
   "source": [
    "test.head()"
   ]
  },
  {
   "cell_type": "code",
   "execution_count": 86,
   "id": "f492db52",
   "metadata": {},
   "outputs": [
    {
     "name": "stdout",
     "output_type": "stream",
     "text": [
      "<class 'pandas.core.frame.DataFrame'>\n",
      "Int64Index: 10149 entries, 0 to 10148\n",
      "Data columns (total 9 columns):\n",
      " #   Column          Non-Null Count  Dtype  \n",
      "---  ------          --------------  -----  \n",
      " 0   area_type       10149 non-null  float64\n",
      " 1   location        10149 non-null  int32  \n",
      " 2   total_sqft      10149 non-null  float64\n",
      " 3   bath            10149 non-null  float64\n",
      " 4   balcony         10149 non-null  float64\n",
      " 5   price           10149 non-null  float64\n",
      " 6   BHK             10149 non-null  int64  \n",
      " 7   avg_2bhk_rent   10149 non-null  float64\n",
      " 8   dist_from_city  10149 non-null  float64\n",
      "dtypes: float64(7), int32(1), int64(1)\n",
      "memory usage: 753.2 KB\n"
     ]
    }
   ],
   "source": [
    "main.info()"
   ]
  },
  {
   "cell_type": "code",
   "execution_count": 87,
   "id": "1135125f",
   "metadata": {},
   "outputs": [
    {
     "name": "stdout",
     "output_type": "stream",
     "text": [
      "<class 'pandas.core.frame.DataFrame'>\n",
      "Int64Index: 2664 entries, 0 to 2663\n",
      "Data columns (total 8 columns):\n",
      " #   Column          Non-Null Count  Dtype  \n",
      "---  ------          --------------  -----  \n",
      " 0   area_type       2664 non-null   float64\n",
      " 1   location        2664 non-null   int32  \n",
      " 2   total_sqft      2664 non-null   float64\n",
      " 3   bath            2664 non-null   float64\n",
      " 4   balcony         2664 non-null   float64\n",
      " 5   BHK             2664 non-null   int64  \n",
      " 6   avg_2bhk_rent   2664 non-null   float64\n",
      " 7   dist_from_city  2664 non-null   float64\n",
      "dtypes: float64(6), int32(1), int64(1)\n",
      "memory usage: 176.9 KB\n"
     ]
    }
   ],
   "source": [
    "test.info()"
   ]
  },
  {
   "cell_type": "code",
   "execution_count": 88,
   "id": "e91f5d40",
   "metadata": {},
   "outputs": [
    {
     "data": {
      "text/plain": [
       "area_type         0\n",
       "location          0\n",
       "total_sqft        0\n",
       "bath              0\n",
       "balcony           0\n",
       "BHK               0\n",
       "avg_2bhk_rent     0\n",
       "dist_from_city    0\n",
       "dtype: int64"
      ]
     },
     "execution_count": 88,
     "metadata": {},
     "output_type": "execute_result"
    }
   ],
   "source": [
    "test.isnull().sum()"
   ]
  },
  {
   "cell_type": "markdown",
   "id": "079b67fc",
   "metadata": {},
   "source": [
    "### Let us check the shape of both the train and test datasets. The number of features should be n-1 in test since the target variable is not present in the test data"
   ]
  },
  {
   "cell_type": "code",
   "execution_count": 89,
   "id": "59c49208",
   "metadata": {},
   "outputs": [
    {
     "data": {
      "text/plain": [
       "(10149, 9)"
      ]
     },
     "execution_count": 89,
     "metadata": {},
     "output_type": "execute_result"
    }
   ],
   "source": [
    "main.shape"
   ]
  },
  {
   "cell_type": "code",
   "execution_count": 90,
   "id": "fcbf85e2",
   "metadata": {},
   "outputs": [
    {
     "data": {
      "text/plain": [
       "(2664, 8)"
      ]
     },
     "execution_count": 90,
     "metadata": {},
     "output_type": "execute_result"
    }
   ],
   "source": [
    "test.shape"
   ]
  },
  {
   "cell_type": "markdown",
   "id": "bcff8d4f",
   "metadata": {},
   "source": [
    "### Now that we have converted all categorical columns to numeric columns and also verified that the features are same in both the datasets, let us predict using our test dataset using the Regression Model that we trained with the train dataset"
   ]
  },
  {
   "cell_type": "code",
   "execution_count": 91,
   "id": "5a273858",
   "metadata": {},
   "outputs": [],
   "source": [
    "submission = pd.DataFrame()\n",
    "submission['ID'] = test.index\n",
    "submission['price'] = xgb_r_model.predict(test)"
   ]
  },
  {
   "cell_type": "code",
   "execution_count": 92,
   "id": "39c20f3c",
   "metadata": {},
   "outputs": [],
   "source": [
    "import csv\n",
    "with open('Deepak_Ramamurthy_submission_03092022_XGB_Regression_Final.csv', 'w', encoding='UTF8', newline='') as f:\n",
    "    writer = csv.writer(f)\n",
    "\n",
    "    # write the header\n",
    "    writer.writerow(submission.columns)\n",
    "\n",
    "    # write multiple rows\n",
    "    writer.writerows(submission.values)"
   ]
  }
 ],
 "metadata": {
  "kernelspec": {
   "display_name": "Python 3 (ipykernel)",
   "language": "python",
   "name": "python3"
  },
  "language_info": {
   "codemirror_mode": {
    "name": "ipython",
    "version": 3
   },
   "file_extension": ".py",
   "mimetype": "text/x-python",
   "name": "python",
   "nbconvert_exporter": "python",
   "pygments_lexer": "ipython3",
   "version": "3.9.12"
  }
 },
 "nbformat": 4,
 "nbformat_minor": 5
}
